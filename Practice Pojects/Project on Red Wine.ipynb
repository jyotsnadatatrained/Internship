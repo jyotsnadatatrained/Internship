{
 "cells": [
  {
   "cell_type": "code",
   "execution_count": 66,
   "id": "010a69ff",
   "metadata": {},
   "outputs": [],
   "source": [
    "# lets import necessary libraries\n",
    "import pandas as pd\n",
    "import numpy as np\n",
    "from sklearn.preprocessing import StandardScaler\n",
    "from sklearn.linear_model import LinearRegression, LogisticRegression\n",
    "from sklearn.model_selection import train_test_split, GridSearchCV\n",
    "import matplotlib.pyplot as plt\n",
    "import seaborn as sns\n",
    "import pickle\n",
    "from sklearn.metrics import confusion_matrix, classification_report, accuracy_score, roc_curve, roc_auc_score\n",
    "from sklearn.neighbors import KNeighborsClassifier\n",
    "from sklearn.model_selection import cross_val_score\n",
    "from sklearn.ensemble import GradientBoostingRegressor\n",
    "from sklearn.ensemble import RandomForestRegressor\n",
    "from sklearn.tree import DecisionTreeRegressor\n",
    "\n",
    "\n",
    "import warnings\n",
    "warnings.filterwarnings('ignore')\n"
   ]
  },
  {
   "cell_type": "markdown",
   "id": "215e4a41",
   "metadata": {},
   "source": [
    "The dataset is related to red and white variants of the Portuguese \"Vinho Verde\" wine. Due to privacy and logistic issues, only physicochemical (inputs) and sensory (the output) variables are available (e.g. there is no data about grape types, wine brand, wine selling price, etc.).\n",
    "\n",
    "This dataset can be viewed as classification task. The classes are ordered and not balanced (e.g. there are many more normal wines than excellent or poor ones). Also, we are not sure if all input variables are relevant. So it could be interesting to test feature selection methods.\n",
    "\n",
    "\n"
   ]
  },
  {
   "cell_type": "markdown",
   "id": "ada0bc12",
   "metadata": {},
   "source": [
    "Attribute Information\n",
    "Input variables (based on physicochemical tests):\n",
    "1 - fixed acidity\n",
    "2 - volatile acidity\n",
    "3 - citric acid\n",
    "4 - residual sugar\n",
    "5 - chlorides\n",
    "6 - free sulfur dioxide\n",
    "7 - total sulfur dioxide\n",
    "8 - density\n",
    "9 - pH\n",
    "10 - sulphates\n",
    "11 - alcohol\n",
    "Output variable (based on sensory data):\n",
    "12 - quality (score between 0 and 10)\n"
   ]
  },
  {
   "cell_type": "code",
   "execution_count": 2,
   "id": "681997f4",
   "metadata": {},
   "outputs": [
    {
     "data": {
      "text/html": [
       "<div>\n",
       "<style scoped>\n",
       "    .dataframe tbody tr th:only-of-type {\n",
       "        vertical-align: middle;\n",
       "    }\n",
       "\n",
       "    .dataframe tbody tr th {\n",
       "        vertical-align: top;\n",
       "    }\n",
       "\n",
       "    .dataframe thead th {\n",
       "        text-align: right;\n",
       "    }\n",
       "</style>\n",
       "<table border=\"1\" class=\"dataframe\">\n",
       "  <thead>\n",
       "    <tr style=\"text-align: right;\">\n",
       "      <th></th>\n",
       "      <th>fixed acidity</th>\n",
       "      <th>volatile acidity</th>\n",
       "      <th>citric acid</th>\n",
       "      <th>residual sugar</th>\n",
       "      <th>chlorides</th>\n",
       "      <th>free sulfur dioxide</th>\n",
       "      <th>total sulfur dioxide</th>\n",
       "      <th>density</th>\n",
       "      <th>pH</th>\n",
       "      <th>sulphates</th>\n",
       "      <th>alcohol</th>\n",
       "      <th>quality</th>\n",
       "    </tr>\n",
       "  </thead>\n",
       "  <tbody>\n",
       "    <tr>\n",
       "      <th>0</th>\n",
       "      <td>7.4</td>\n",
       "      <td>0.70</td>\n",
       "      <td>0.00</td>\n",
       "      <td>1.9</td>\n",
       "      <td>0.076</td>\n",
       "      <td>11.0</td>\n",
       "      <td>34.0</td>\n",
       "      <td>0.9978</td>\n",
       "      <td>3.51</td>\n",
       "      <td>0.56</td>\n",
       "      <td>9.4</td>\n",
       "      <td>5</td>\n",
       "    </tr>\n",
       "    <tr>\n",
       "      <th>1</th>\n",
       "      <td>7.8</td>\n",
       "      <td>0.88</td>\n",
       "      <td>0.00</td>\n",
       "      <td>2.6</td>\n",
       "      <td>0.098</td>\n",
       "      <td>25.0</td>\n",
       "      <td>67.0</td>\n",
       "      <td>0.9968</td>\n",
       "      <td>3.20</td>\n",
       "      <td>0.68</td>\n",
       "      <td>9.8</td>\n",
       "      <td>5</td>\n",
       "    </tr>\n",
       "    <tr>\n",
       "      <th>2</th>\n",
       "      <td>7.8</td>\n",
       "      <td>0.76</td>\n",
       "      <td>0.04</td>\n",
       "      <td>2.3</td>\n",
       "      <td>0.092</td>\n",
       "      <td>15.0</td>\n",
       "      <td>54.0</td>\n",
       "      <td>0.9970</td>\n",
       "      <td>3.26</td>\n",
       "      <td>0.65</td>\n",
       "      <td>9.8</td>\n",
       "      <td>5</td>\n",
       "    </tr>\n",
       "    <tr>\n",
       "      <th>3</th>\n",
       "      <td>11.2</td>\n",
       "      <td>0.28</td>\n",
       "      <td>0.56</td>\n",
       "      <td>1.9</td>\n",
       "      <td>0.075</td>\n",
       "      <td>17.0</td>\n",
       "      <td>60.0</td>\n",
       "      <td>0.9980</td>\n",
       "      <td>3.16</td>\n",
       "      <td>0.58</td>\n",
       "      <td>9.8</td>\n",
       "      <td>6</td>\n",
       "    </tr>\n",
       "    <tr>\n",
       "      <th>4</th>\n",
       "      <td>7.4</td>\n",
       "      <td>0.70</td>\n",
       "      <td>0.00</td>\n",
       "      <td>1.9</td>\n",
       "      <td>0.076</td>\n",
       "      <td>11.0</td>\n",
       "      <td>34.0</td>\n",
       "      <td>0.9978</td>\n",
       "      <td>3.51</td>\n",
       "      <td>0.56</td>\n",
       "      <td>9.4</td>\n",
       "      <td>5</td>\n",
       "    </tr>\n",
       "  </tbody>\n",
       "</table>\n",
       "</div>"
      ],
      "text/plain": [
       "   fixed acidity  volatile acidity  citric acid  residual sugar  chlorides  \\\n",
       "0            7.4              0.70         0.00             1.9      0.076   \n",
       "1            7.8              0.88         0.00             2.6      0.098   \n",
       "2            7.8              0.76         0.04             2.3      0.092   \n",
       "3           11.2              0.28         0.56             1.9      0.075   \n",
       "4            7.4              0.70         0.00             1.9      0.076   \n",
       "\n",
       "   free sulfur dioxide  total sulfur dioxide  density    pH  sulphates  \\\n",
       "0                 11.0                  34.0   0.9978  3.51       0.56   \n",
       "1                 25.0                  67.0   0.9968  3.20       0.68   \n",
       "2                 15.0                  54.0   0.9970  3.26       0.65   \n",
       "3                 17.0                  60.0   0.9980  3.16       0.58   \n",
       "4                 11.0                  34.0   0.9978  3.51       0.56   \n",
       "\n",
       "   alcohol  quality  \n",
       "0      9.4        5  \n",
       "1      9.8        5  \n",
       "2      9.8        5  \n",
       "3      9.8        6  \n",
       "4      9.4        5  "
      ]
     },
     "execution_count": 2,
     "metadata": {},
     "output_type": "execute_result"
    }
   ],
   "source": [
    "#read dataset and convert into dataframe\n",
    "\n",
    "data = pd.read_csv(r'https://raw.githubusercontent.com/dsrscientist/DSData/master/winequality-red.csv')\n",
    "data.head()"
   ]
  },
  {
   "cell_type": "code",
   "execution_count": 3,
   "id": "cb282aa5",
   "metadata": {},
   "outputs": [
    {
     "data": {
      "text/plain": [
       "(1599, 12)"
      ]
     },
     "execution_count": 3,
     "metadata": {},
     "output_type": "execute_result"
    }
   ],
   "source": [
    "data.shape"
   ]
  },
  {
   "cell_type": "code",
   "execution_count": 4,
   "id": "50c5ec5f",
   "metadata": {},
   "outputs": [
    {
     "name": "stdout",
     "output_type": "stream",
     "text": [
      "<class 'pandas.core.frame.DataFrame'>\n",
      "RangeIndex: 1599 entries, 0 to 1598\n",
      "Data columns (total 12 columns):\n",
      " #   Column                Non-Null Count  Dtype  \n",
      "---  ------                --------------  -----  \n",
      " 0   fixed acidity         1599 non-null   float64\n",
      " 1   volatile acidity      1599 non-null   float64\n",
      " 2   citric acid           1599 non-null   float64\n",
      " 3   residual sugar        1599 non-null   float64\n",
      " 4   chlorides             1599 non-null   float64\n",
      " 5   free sulfur dioxide   1599 non-null   float64\n",
      " 6   total sulfur dioxide  1599 non-null   float64\n",
      " 7   density               1599 non-null   float64\n",
      " 8   pH                    1599 non-null   float64\n",
      " 9   sulphates             1599 non-null   float64\n",
      " 10  alcohol               1599 non-null   float64\n",
      " 11  quality               1599 non-null   int64  \n",
      "dtypes: float64(11), int64(1)\n",
      "memory usage: 150.0 KB\n"
     ]
    }
   ],
   "source": [
    "data.info()"
   ]
  },
  {
   "cell_type": "markdown",
   "id": "6f4265c4",
   "metadata": {},
   "source": [
    "Each feature is a float data type or we can say continuous except the label which is int64"
   ]
  },
  {
   "cell_type": "code",
   "execution_count": 8,
   "id": "2587eeca",
   "metadata": {},
   "outputs": [
    {
     "data": {
      "text/html": [
       "<div>\n",
       "<style scoped>\n",
       "    .dataframe tbody tr th:only-of-type {\n",
       "        vertical-align: middle;\n",
       "    }\n",
       "\n",
       "    .dataframe tbody tr th {\n",
       "        vertical-align: top;\n",
       "    }\n",
       "\n",
       "    .dataframe thead th {\n",
       "        text-align: right;\n",
       "    }\n",
       "</style>\n",
       "<table border=\"1\" class=\"dataframe\">\n",
       "  <thead>\n",
       "    <tr style=\"text-align: right;\">\n",
       "      <th></th>\n",
       "      <th>fixed acidity</th>\n",
       "      <th>volatile acidity</th>\n",
       "      <th>citric acid</th>\n",
       "      <th>residual sugar</th>\n",
       "      <th>chlorides</th>\n",
       "      <th>free sulfur dioxide</th>\n",
       "      <th>total sulfur dioxide</th>\n",
       "      <th>density</th>\n",
       "      <th>pH</th>\n",
       "      <th>sulphates</th>\n",
       "      <th>alcohol</th>\n",
       "      <th>quality</th>\n",
       "    </tr>\n",
       "  </thead>\n",
       "  <tbody>\n",
       "    <tr>\n",
       "      <th>count</th>\n",
       "      <td>1599.000000</td>\n",
       "      <td>1599.000000</td>\n",
       "      <td>1599.000000</td>\n",
       "      <td>1599.000000</td>\n",
       "      <td>1599.000000</td>\n",
       "      <td>1599.000000</td>\n",
       "      <td>1599.000000</td>\n",
       "      <td>1599.000000</td>\n",
       "      <td>1599.000000</td>\n",
       "      <td>1599.000000</td>\n",
       "      <td>1599.000000</td>\n",
       "      <td>1599.000000</td>\n",
       "    </tr>\n",
       "    <tr>\n",
       "      <th>mean</th>\n",
       "      <td>8.319637</td>\n",
       "      <td>0.527821</td>\n",
       "      <td>0.270976</td>\n",
       "      <td>2.538806</td>\n",
       "      <td>0.087467</td>\n",
       "      <td>15.874922</td>\n",
       "      <td>46.467792</td>\n",
       "      <td>0.996747</td>\n",
       "      <td>3.311113</td>\n",
       "      <td>0.658149</td>\n",
       "      <td>10.422983</td>\n",
       "      <td>5.636023</td>\n",
       "    </tr>\n",
       "    <tr>\n",
       "      <th>std</th>\n",
       "      <td>1.741096</td>\n",
       "      <td>0.179060</td>\n",
       "      <td>0.194801</td>\n",
       "      <td>1.409928</td>\n",
       "      <td>0.047065</td>\n",
       "      <td>10.460157</td>\n",
       "      <td>32.895324</td>\n",
       "      <td>0.001887</td>\n",
       "      <td>0.154386</td>\n",
       "      <td>0.169507</td>\n",
       "      <td>1.065668</td>\n",
       "      <td>0.807569</td>\n",
       "    </tr>\n",
       "    <tr>\n",
       "      <th>min</th>\n",
       "      <td>4.600000</td>\n",
       "      <td>0.120000</td>\n",
       "      <td>0.000000</td>\n",
       "      <td>0.900000</td>\n",
       "      <td>0.012000</td>\n",
       "      <td>1.000000</td>\n",
       "      <td>6.000000</td>\n",
       "      <td>0.990070</td>\n",
       "      <td>2.740000</td>\n",
       "      <td>0.330000</td>\n",
       "      <td>8.400000</td>\n",
       "      <td>3.000000</td>\n",
       "    </tr>\n",
       "    <tr>\n",
       "      <th>25%</th>\n",
       "      <td>7.100000</td>\n",
       "      <td>0.390000</td>\n",
       "      <td>0.090000</td>\n",
       "      <td>1.900000</td>\n",
       "      <td>0.070000</td>\n",
       "      <td>7.000000</td>\n",
       "      <td>22.000000</td>\n",
       "      <td>0.995600</td>\n",
       "      <td>3.210000</td>\n",
       "      <td>0.550000</td>\n",
       "      <td>9.500000</td>\n",
       "      <td>5.000000</td>\n",
       "    </tr>\n",
       "    <tr>\n",
       "      <th>50%</th>\n",
       "      <td>7.900000</td>\n",
       "      <td>0.520000</td>\n",
       "      <td>0.260000</td>\n",
       "      <td>2.200000</td>\n",
       "      <td>0.079000</td>\n",
       "      <td>14.000000</td>\n",
       "      <td>38.000000</td>\n",
       "      <td>0.996750</td>\n",
       "      <td>3.310000</td>\n",
       "      <td>0.620000</td>\n",
       "      <td>10.200000</td>\n",
       "      <td>6.000000</td>\n",
       "    </tr>\n",
       "    <tr>\n",
       "      <th>75%</th>\n",
       "      <td>9.200000</td>\n",
       "      <td>0.640000</td>\n",
       "      <td>0.420000</td>\n",
       "      <td>2.600000</td>\n",
       "      <td>0.090000</td>\n",
       "      <td>21.000000</td>\n",
       "      <td>62.000000</td>\n",
       "      <td>0.997835</td>\n",
       "      <td>3.400000</td>\n",
       "      <td>0.730000</td>\n",
       "      <td>11.100000</td>\n",
       "      <td>6.000000</td>\n",
       "    </tr>\n",
       "    <tr>\n",
       "      <th>max</th>\n",
       "      <td>15.900000</td>\n",
       "      <td>1.580000</td>\n",
       "      <td>1.000000</td>\n",
       "      <td>15.500000</td>\n",
       "      <td>0.611000</td>\n",
       "      <td>72.000000</td>\n",
       "      <td>289.000000</td>\n",
       "      <td>1.003690</td>\n",
       "      <td>4.010000</td>\n",
       "      <td>2.000000</td>\n",
       "      <td>14.900000</td>\n",
       "      <td>8.000000</td>\n",
       "    </tr>\n",
       "  </tbody>\n",
       "</table>\n",
       "</div>"
      ],
      "text/plain": [
       "       fixed acidity  volatile acidity  citric acid  residual sugar  \\\n",
       "count    1599.000000       1599.000000  1599.000000     1599.000000   \n",
       "mean        8.319637          0.527821     0.270976        2.538806   \n",
       "std         1.741096          0.179060     0.194801        1.409928   \n",
       "min         4.600000          0.120000     0.000000        0.900000   \n",
       "25%         7.100000          0.390000     0.090000        1.900000   \n",
       "50%         7.900000          0.520000     0.260000        2.200000   \n",
       "75%         9.200000          0.640000     0.420000        2.600000   \n",
       "max        15.900000          1.580000     1.000000       15.500000   \n",
       "\n",
       "         chlorides  free sulfur dioxide  total sulfur dioxide      density  \\\n",
       "count  1599.000000          1599.000000           1599.000000  1599.000000   \n",
       "mean      0.087467            15.874922             46.467792     0.996747   \n",
       "std       0.047065            10.460157             32.895324     0.001887   \n",
       "min       0.012000             1.000000              6.000000     0.990070   \n",
       "25%       0.070000             7.000000             22.000000     0.995600   \n",
       "50%       0.079000            14.000000             38.000000     0.996750   \n",
       "75%       0.090000            21.000000             62.000000     0.997835   \n",
       "max       0.611000            72.000000            289.000000     1.003690   \n",
       "\n",
       "                pH    sulphates      alcohol      quality  \n",
       "count  1599.000000  1599.000000  1599.000000  1599.000000  \n",
       "mean      3.311113     0.658149    10.422983     5.636023  \n",
       "std       0.154386     0.169507     1.065668     0.807569  \n",
       "min       2.740000     0.330000     8.400000     3.000000  \n",
       "25%       3.210000     0.550000     9.500000     5.000000  \n",
       "50%       3.310000     0.620000    10.200000     6.000000  \n",
       "75%       3.400000     0.730000    11.100000     6.000000  \n",
       "max       4.010000     2.000000    14.900000     8.000000  "
      ]
     },
     "execution_count": 8,
     "metadata": {},
     "output_type": "execute_result"
    }
   ],
   "source": [
    "data.describe()"
   ]
  },
  {
   "cell_type": "markdown",
   "id": "db5880bc",
   "metadata": {},
   "source": [
    "we can see that its a balanced data as there is not such huge variation"
   ]
  },
  {
   "cell_type": "code",
   "execution_count": 9,
   "id": "51d0e2a1",
   "metadata": {},
   "outputs": [
    {
     "data": {
      "text/plain": [
       "fixed acidity           0\n",
       "volatile acidity        0\n",
       "citric acid             0\n",
       "residual sugar          0\n",
       "chlorides               0\n",
       "free sulfur dioxide     0\n",
       "total sulfur dioxide    0\n",
       "density                 0\n",
       "pH                      0\n",
       "sulphates               0\n",
       "alcohol                 0\n",
       "quality                 0\n",
       "dtype: int64"
      ]
     },
     "execution_count": 9,
     "metadata": {},
     "output_type": "execute_result"
    }
   ],
   "source": [
    "data.isnull().sum()"
   ]
  },
  {
   "cell_type": "code",
   "execution_count": 10,
   "id": "e4525bdc",
   "metadata": {},
   "outputs": [
    {
     "data": {
      "text/plain": [
       "array([5, 6, 7, 4, 8, 3], dtype=int64)"
      ]
     },
     "execution_count": 10,
     "metadata": {},
     "output_type": "execute_result"
    }
   ],
   "source": [
    "data['quality'].unique()"
   ]
  },
  {
   "cell_type": "markdown",
   "id": "d7dc4604",
   "metadata": {},
   "source": [
    "As we can see there are no null values so we can poceed further"
   ]
  },
  {
   "cell_type": "code",
   "execution_count": 16,
   "id": "605f57e7",
   "metadata": {},
   "outputs": [
    {
     "data": {
      "text/plain": [
       "5    681\n",
       "6    638\n",
       "7    199\n",
       "4     53\n",
       "8     18\n",
       "3     10\n",
       "Name: quality, dtype: int64"
      ]
     },
     "execution_count": 16,
     "metadata": {},
     "output_type": "execute_result"
    }
   ],
   "source": [
    "data.quality.value_counts()"
   ]
  },
  {
   "cell_type": "markdown",
   "id": "6c6a3d35",
   "metadata": {},
   "source": [
    "Dataset is a bit inbalanced as we can see a less no of wine with a good quality amongst all i.e 7"
   ]
  },
  {
   "cell_type": "code",
   "execution_count": 17,
   "id": "914764fc",
   "metadata": {},
   "outputs": [
    {
     "data": {
      "image/png": "[encoded data removed]",
      "text/plain": [
       "<Figure size 640x480 with 1 Axes>"
      ]
     },
     "metadata": {},
     "output_type": "display_data"
    }
   ],
   "source": [
    "sns.countplot(x='quality',data=data)\n",
    "plt.show()"
   ]
  },
  {
   "cell_type": "markdown",
   "id": "df6b36fb",
   "metadata": {},
   "source": [
    "using SelectKBest feature selection method"
   ]
  },
  {
   "cell_type": "code",
   "execution_count": 18,
   "id": "256ebb44",
   "metadata": {},
   "outputs": [],
   "source": [
    "from sklearn.feature_selection import SelectKBest, f_classif"
   ]
  },
  {
   "cell_type": "code",
   "execution_count": 31,
   "id": "4bc681a7",
   "metadata": {},
   "outputs": [],
   "source": [
    "x = data.drop('quality', axis=1)\n",
    "y = data.quality"
   ]
  },
  {
   "cell_type": "code",
   "execution_count": null,
   "id": "df701711",
   "metadata": {},
   "outputs": [],
   "source": []
  },
  {
   "cell_type": "markdown",
   "id": "6c6493aa",
   "metadata": {},
   "source": [
    "Preparing dataframe with all the important feature detected"
   ]
  },
  {
   "cell_type": "code",
   "execution_count": 32,
   "id": "615c6d62",
   "metadata": {},
   "outputs": [
    {
     "data": {
      "text/html": [
       "<div>\n",
       "<style scoped>\n",
       "    .dataframe tbody tr th:only-of-type {\n",
       "        vertical-align: middle;\n",
       "    }\n",
       "\n",
       "    .dataframe tbody tr th {\n",
       "        vertical-align: top;\n",
       "    }\n",
       "\n",
       "    .dataframe thead th {\n",
       "        text-align: right;\n",
       "    }\n",
       "</style>\n",
       "<table border=\"1\" class=\"dataframe\">\n",
       "  <thead>\n",
       "    <tr style=\"text-align: right;\">\n",
       "      <th></th>\n",
       "      <th>alcohol</th>\n",
       "      <th>fixed acidity</th>\n",
       "      <th>citric acid</th>\n",
       "      <th>volatile acidity</th>\n",
       "      <th>residual sugar</th>\n",
       "      <th>free sulfur dioxide</th>\n",
       "      <th>chlorides</th>\n",
       "      <th>total sulfur dioxide</th>\n",
       "    </tr>\n",
       "  </thead>\n",
       "  <tbody>\n",
       "    <tr>\n",
       "      <th>0</th>\n",
       "      <td>9.4</td>\n",
       "      <td>7.4</td>\n",
       "      <td>0.00</td>\n",
       "      <td>0.700</td>\n",
       "      <td>1.073922</td>\n",
       "      <td>2.223980</td>\n",
       "      <td>0.751010</td>\n",
       "      <td>3.239612</td>\n",
       "    </tr>\n",
       "    <tr>\n",
       "      <th>1</th>\n",
       "      <td>9.8</td>\n",
       "      <td>7.8</td>\n",
       "      <td>0.00</td>\n",
       "      <td>0.880</td>\n",
       "      <td>1.112009</td>\n",
       "      <td>2.924018</td>\n",
       "      <td>0.772528</td>\n",
       "      <td>4.061548</td>\n",
       "    </tr>\n",
       "    <tr>\n",
       "      <th>2</th>\n",
       "      <td>9.8</td>\n",
       "      <td>7.8</td>\n",
       "      <td>0.04</td>\n",
       "      <td>0.760</td>\n",
       "      <td>1.096963</td>\n",
       "      <td>2.466212</td>\n",
       "      <td>0.767124</td>\n",
       "      <td>3.779763</td>\n",
       "    </tr>\n",
       "    <tr>\n",
       "      <th>3</th>\n",
       "      <td>9.8</td>\n",
       "      <td>11.2</td>\n",
       "      <td>0.56</td>\n",
       "      <td>0.280</td>\n",
       "      <td>1.073922</td>\n",
       "      <td>2.571282</td>\n",
       "      <td>0.749906</td>\n",
       "      <td>3.914868</td>\n",
       "    </tr>\n",
       "    <tr>\n",
       "      <th>4</th>\n",
       "      <td>9.4</td>\n",
       "      <td>7.4</td>\n",
       "      <td>0.00</td>\n",
       "      <td>0.700</td>\n",
       "      <td>1.073922</td>\n",
       "      <td>2.223980</td>\n",
       "      <td>0.751010</td>\n",
       "      <td>3.239612</td>\n",
       "    </tr>\n",
       "    <tr>\n",
       "      <th>...</th>\n",
       "      <td>...</td>\n",
       "      <td>...</td>\n",
       "      <td>...</td>\n",
       "      <td>...</td>\n",
       "      <td>...</td>\n",
       "      <td>...</td>\n",
       "      <td>...</td>\n",
       "      <td>...</td>\n",
       "    </tr>\n",
       "    <tr>\n",
       "      <th>1594</th>\n",
       "      <td>10.5</td>\n",
       "      <td>6.2</td>\n",
       "      <td>0.08</td>\n",
       "      <td>0.600</td>\n",
       "      <td>1.080060</td>\n",
       "      <td>3.174802</td>\n",
       "      <td>0.765252</td>\n",
       "      <td>3.530348</td>\n",
       "    </tr>\n",
       "    <tr>\n",
       "      <th>1595</th>\n",
       "      <td>11.2</td>\n",
       "      <td>5.9</td>\n",
       "      <td>0.10</td>\n",
       "      <td>0.550</td>\n",
       "      <td>1.091558</td>\n",
       "      <td>3.391211</td>\n",
       "      <td>0.734212</td>\n",
       "      <td>3.708430</td>\n",
       "    </tr>\n",
       "    <tr>\n",
       "      <th>1596</th>\n",
       "      <td>11.0</td>\n",
       "      <td>6.3</td>\n",
       "      <td>0.13</td>\n",
       "      <td>0.510</td>\n",
       "      <td>1.096963</td>\n",
       "      <td>3.072317</td>\n",
       "      <td>0.751010</td>\n",
       "      <td>3.419952</td>\n",
       "    </tr>\n",
       "    <tr>\n",
       "      <th>1597</th>\n",
       "      <td>10.2</td>\n",
       "      <td>5.9</td>\n",
       "      <td>0.12</td>\n",
       "      <td>0.645</td>\n",
       "      <td>1.080060</td>\n",
       "      <td>3.174802</td>\n",
       "      <td>0.749906</td>\n",
       "      <td>3.530348</td>\n",
       "    </tr>\n",
       "    <tr>\n",
       "      <th>1598</th>\n",
       "      <td>11.0</td>\n",
       "      <td>6.0</td>\n",
       "      <td>0.47</td>\n",
       "      <td>0.310</td>\n",
       "      <td>1.152952</td>\n",
       "      <td>2.620741</td>\n",
       "      <td>0.740566</td>\n",
       "      <td>3.476027</td>\n",
       "    </tr>\n",
       "  </tbody>\n",
       "</table>\n",
       "<p>1599 rows × 8 columns</p>\n",
       "</div>"
      ],
      "text/plain": [
       "      alcohol  fixed acidity  citric acid  volatile acidity  residual sugar  \\\n",
       "0         9.4            7.4         0.00             0.700        1.073922   \n",
       "1         9.8            7.8         0.00             0.880        1.112009   \n",
       "2         9.8            7.8         0.04             0.760        1.096963   \n",
       "3         9.8           11.2         0.56             0.280        1.073922   \n",
       "4         9.4            7.4         0.00             0.700        1.073922   \n",
       "...       ...            ...          ...               ...             ...   \n",
       "1594     10.5            6.2         0.08             0.600        1.080060   \n",
       "1595     11.2            5.9         0.10             0.550        1.091558   \n",
       "1596     11.0            6.3         0.13             0.510        1.096963   \n",
       "1597     10.2            5.9         0.12             0.645        1.080060   \n",
       "1598     11.0            6.0         0.47             0.310        1.152952   \n",
       "\n",
       "      free sulfur dioxide  chlorides  total sulfur dioxide  \n",
       "0                2.223980   0.751010              3.239612  \n",
       "1                2.924018   0.772528              4.061548  \n",
       "2                2.466212   0.767124              3.779763  \n",
       "3                2.571282   0.749906              3.914868  \n",
       "4                2.223980   0.751010              3.239612  \n",
       "...                   ...        ...                   ...  \n",
       "1594             3.174802   0.765252              3.530348  \n",
       "1595             3.391211   0.734212              3.708430  \n",
       "1596             3.072317   0.751010              3.419952  \n",
       "1597             3.174802   0.749906              3.530348  \n",
       "1598             2.620741   0.740566              3.476027  \n",
       "\n",
       "[1599 rows x 8 columns]"
      ]
     },
     "execution_count": 32,
     "metadata": {},
     "output_type": "execute_result"
    }
   ],
   "source": [
    "new_x = data[['alcohol','fixed acidity','citric acid','volatile acidity','residual sugar','free sulfur dioxide','chlorides','total sulfur dioxide']]\n",
    "new_x"
   ]
  },
  {
   "cell_type": "code",
   "execution_count": 33,
   "id": "8b7e8273",
   "metadata": {},
   "outputs": [
    {
     "data": {
      "text/html": [
       "<div>\n",
       "<style scoped>\n",
       "    .dataframe tbody tr th:only-of-type {\n",
       "        vertical-align: middle;\n",
       "    }\n",
       "\n",
       "    .dataframe tbody tr th {\n",
       "        vertical-align: top;\n",
       "    }\n",
       "\n",
       "    .dataframe thead th {\n",
       "        text-align: right;\n",
       "    }\n",
       "</style>\n",
       "<table border=\"1\" class=\"dataframe\">\n",
       "  <thead>\n",
       "    <tr style=\"text-align: right;\">\n",
       "      <th></th>\n",
       "      <th>alcohol</th>\n",
       "      <th>fixed acidity</th>\n",
       "      <th>citric acid</th>\n",
       "      <th>volatile acidity</th>\n",
       "      <th>residual sugar</th>\n",
       "      <th>free sulfur dioxide</th>\n",
       "      <th>chlorides</th>\n",
       "      <th>total sulfur dioxide</th>\n",
       "    </tr>\n",
       "  </thead>\n",
       "  <tbody>\n",
       "    <tr>\n",
       "      <th>count</th>\n",
       "      <td>1599.000000</td>\n",
       "      <td>1599.000000</td>\n",
       "      <td>1599.000000</td>\n",
       "      <td>1599.000000</td>\n",
       "      <td>1599.000000</td>\n",
       "      <td>1599.000000</td>\n",
       "      <td>1599.000000</td>\n",
       "      <td>1599.000000</td>\n",
       "    </tr>\n",
       "    <tr>\n",
       "      <th>mean</th>\n",
       "      <td>10.422983</td>\n",
       "      <td>8.319637</td>\n",
       "      <td>0.270976</td>\n",
       "      <td>0.527821</td>\n",
       "      <td>1.099964</td>\n",
       "      <td>2.397125</td>\n",
       "      <td>0.757517</td>\n",
       "      <td>3.413073</td>\n",
       "    </tr>\n",
       "    <tr>\n",
       "      <th>std</th>\n",
       "      <td>1.065668</td>\n",
       "      <td>1.741096</td>\n",
       "      <td>0.194801</td>\n",
       "      <td>0.179060</td>\n",
       "      <td>0.045343</td>\n",
       "      <td>0.535717</td>\n",
       "      <td>0.028510</td>\n",
       "      <td>0.797571</td>\n",
       "    </tr>\n",
       "    <tr>\n",
       "      <th>min</th>\n",
       "      <td>8.400000</td>\n",
       "      <td>4.600000</td>\n",
       "      <td>0.000000</td>\n",
       "      <td>0.120000</td>\n",
       "      <td>0.988362</td>\n",
       "      <td>1.000000</td>\n",
       "      <td>0.611752</td>\n",
       "      <td>1.817121</td>\n",
       "    </tr>\n",
       "    <tr>\n",
       "      <th>25%</th>\n",
       "      <td>9.500000</td>\n",
       "      <td>7.100000</td>\n",
       "      <td>0.090000</td>\n",
       "      <td>0.390000</td>\n",
       "      <td>1.073922</td>\n",
       "      <td>1.912931</td>\n",
       "      <td>0.744179</td>\n",
       "      <td>2.802039</td>\n",
       "    </tr>\n",
       "    <tr>\n",
       "      <th>50%</th>\n",
       "      <td>10.200000</td>\n",
       "      <td>7.900000</td>\n",
       "      <td>0.260000</td>\n",
       "      <td>0.520000</td>\n",
       "      <td>1.091558</td>\n",
       "      <td>2.410142</td>\n",
       "      <td>0.754248</td>\n",
       "      <td>3.361975</td>\n",
       "    </tr>\n",
       "    <tr>\n",
       "      <th>75%</th>\n",
       "      <td>11.100000</td>\n",
       "      <td>9.200000</td>\n",
       "      <td>0.420000</td>\n",
       "      <td>0.640000</td>\n",
       "      <td>1.112009</td>\n",
       "      <td>2.758924</td>\n",
       "      <td>0.765252</td>\n",
       "      <td>3.957892</td>\n",
       "    </tr>\n",
       "    <tr>\n",
       "      <th>max</th>\n",
       "      <td>14.900000</td>\n",
       "      <td>15.900000</td>\n",
       "      <td>1.000000</td>\n",
       "      <td>1.580000</td>\n",
       "      <td>1.355998</td>\n",
       "      <td>4.160168</td>\n",
       "      <td>0.946731</td>\n",
       "      <td>6.611489</td>\n",
       "    </tr>\n",
       "  </tbody>\n",
       "</table>\n",
       "</div>"
      ],
      "text/plain": [
       "           alcohol  fixed acidity  citric acid  volatile acidity  \\\n",
       "count  1599.000000    1599.000000  1599.000000       1599.000000   \n",
       "mean     10.422983       8.319637     0.270976          0.527821   \n",
       "std       1.065668       1.741096     0.194801          0.179060   \n",
       "min       8.400000       4.600000     0.000000          0.120000   \n",
       "25%       9.500000       7.100000     0.090000          0.390000   \n",
       "50%      10.200000       7.900000     0.260000          0.520000   \n",
       "75%      11.100000       9.200000     0.420000          0.640000   \n",
       "max      14.900000      15.900000     1.000000          1.580000   \n",
       "\n",
       "       residual sugar  free sulfur dioxide    chlorides  total sulfur dioxide  \n",
       "count     1599.000000          1599.000000  1599.000000           1599.000000  \n",
       "mean         1.099964             2.397125     0.757517              3.413073  \n",
       "std          0.045343             0.535717     0.028510              0.797571  \n",
       "min          0.988362             1.000000     0.611752              1.817121  \n",
       "25%          1.073922             1.912931     0.744179              2.802039  \n",
       "50%          1.091558             2.410142     0.754248              3.361975  \n",
       "75%          1.112009             2.758924     0.765252              3.957892  \n",
       "max          1.355998             4.160168     0.946731              6.611489  "
      ]
     },
     "execution_count": 33,
     "metadata": {},
     "output_type": "execute_result"
    }
   ],
   "source": [
    "new_x.describe()"
   ]
  },
  {
   "cell_type": "code",
   "execution_count": 34,
   "id": "11ef66eb",
   "metadata": {},
   "outputs": [],
   "source": [
    "scalar = StandardScaler()\n",
    "x_scalar = scalar.fit_transform(new_x)"
   ]
  },
  {
   "cell_type": "code",
   "execution_count": 35,
   "id": "9e887339",
   "metadata": {},
   "outputs": [],
   "source": [
    "#building model to test unexposed data\n",
    "x_train, x_test, y_train, y_test = train_test_split(x_scalar, y, test_size=0.25, random_state=355)"
   ]
  },
  {
   "cell_type": "code",
   "execution_count": 36,
   "id": "b9c56c29",
   "metadata": {},
   "outputs": [],
   "source": [
    "#check the accuracy score of different model\n",
    "\n",
    "def metric_score(clf, x_train, x_test, y_train, y_test, train=True):\n",
    "    if train:\n",
    "        y_pred = clf.predict(x_train)\n",
    "        print(f'Accuracy score: {accuracy_score(y_train, y_pred) * 100:.2f}%')\n",
    "    \n",
    "    elif train==False:\n",
    "        pred = clf.predict(x_test) #\n",
    "        print(f'Accuracy score: {accuracy_score(y_test, pred) * 100:.2f}%')\n",
    "        print('\\n \\n Test Classification Report \\n', classification_report(y_test, pred, digits=2))"
   ]
  },
  {
   "cell_type": "code",
   "execution_count": 37,
   "id": "86b7270b",
   "metadata": {},
   "outputs": [
    {
     "data": {
      "text/html": [
       "<style>#sk-container-id-1 {color: black;background-color: white;}#sk-container-id-1 pre{padding: 0;}#sk-container-id-1 div.sk-toggleable {background-color: white;}#sk-container-id-1 label.sk-toggleable__label {cursor: pointer;display: block;width: 100%;margin-bottom: 0;padding: 0.3em;box-sizing: border-box;text-align: center;}#sk-container-id-1 label.sk-toggleable__label-arrow:before {content: \"▸\";float: left;margin-right: 0.25em;color: #696969;}#sk-container-id-1 label.sk-toggleable__label-arrow:hover:before {color: black;}#sk-container-id-1 div.sk-estimator:hover label.sk-toggleable__label-arrow:before {color: black;}#sk-container-id-1 div.sk-toggleable__content {max-height: 0;max-width: 0;overflow: hidden;text-align: left;background-color: #f0f8ff;}#sk-container-id-1 div.sk-toggleable__content pre {margin: 0.2em;color: black;border-radius: 0.25em;background-color: #f0f8ff;}#sk-container-id-1 input.sk-toggleable__control:checked~div.sk-toggleable__content {max-height: 200px;max-width: 100%;overflow: auto;}#sk-container-id-1 input.sk-toggleable__control:checked~label.sk-toggleable__label-arrow:before {content: \"▾\";}#sk-container-id-1 div.sk-estimator input.sk-toggleable__control:checked~label.sk-toggleable__label {background-color: #d4ebff;}#sk-container-id-1 div.sk-label input.sk-toggleable__control:checked~label.sk-toggleable__label {background-color: #d4ebff;}#sk-container-id-1 input.sk-hidden--visually {border: 0;clip: rect(1px 1px 1px 1px);clip: rect(1px, 1px, 1px, 1px);height: 1px;margin: -1px;overflow: hidden;padding: 0;position: absolute;width: 1px;}#sk-container-id-1 div.sk-estimator {font-family: monospace;background-color: #f0f8ff;border: 1px dotted black;border-radius: 0.25em;box-sizing: border-box;margin-bottom: 0.5em;}#sk-container-id-1 div.sk-estimator:hover {background-color: #d4ebff;}#sk-container-id-1 div.sk-parallel-item::after {content: \"\";width: 100%;border-bottom: 1px solid gray;flex-grow: 1;}#sk-container-id-1 div.sk-label:hover label.sk-toggleable__label {background-color: #d4ebff;}#sk-container-id-1 div.sk-serial::before {content: \"\";position: absolute;border-left: 1px solid gray;box-sizing: border-box;top: 0;bottom: 0;left: 50%;z-index: 0;}#sk-container-id-1 div.sk-serial {display: flex;flex-direction: column;align-items: center;background-color: white;padding-right: 0.2em;padding-left: 0.2em;position: relative;}#sk-container-id-1 div.sk-item {position: relative;z-index: 1;}#sk-container-id-1 div.sk-parallel {display: flex;align-items: stretch;justify-content: center;background-color: white;position: relative;}#sk-container-id-1 div.sk-item::before, #sk-container-id-1 div.sk-parallel-item::before {content: \"\";position: absolute;border-left: 1px solid gray;box-sizing: border-box;top: 0;bottom: 0;left: 50%;z-index: -1;}#sk-container-id-1 div.sk-parallel-item {display: flex;flex-direction: column;z-index: 1;position: relative;background-color: white;}#sk-container-id-1 div.sk-parallel-item:first-child::after {align-self: flex-end;width: 50%;}#sk-container-id-1 div.sk-parallel-item:last-child::after {align-self: flex-start;width: 50%;}#sk-container-id-1 div.sk-parallel-item:only-child::after {width: 0;}#sk-container-id-1 div.sk-dashed-wrapped {border: 1px dashed gray;margin: 0 0.4em 0.5em 0.4em;box-sizing: border-box;padding-bottom: 0.4em;background-color: white;}#sk-container-id-1 div.sk-label label {font-family: monospace;font-weight: bold;display: inline-block;line-height: 1.2em;}#sk-container-id-1 div.sk-label-container {text-align: center;}#sk-container-id-1 div.sk-container {/* jupyter's `normalize.less` sets `[hidden] { display: none; }` but bootstrap.min.css set `[hidden] { display: none !important; }` so we also need the `!important` here to be able to override the default hidden behavior on the sphinx rendered scikit-learn.org. See: https://github.com/scikit-learn/scikit-learn/issues/21755 */display: inline-block !important;position: relative;}#sk-container-id-1 div.sk-text-repr-fallback {display: none;}</style><div id=\"sk-container-id-1\" class=\"sk-top-container\"><div class=\"sk-text-repr-fallback\"><pre>KNeighborsClassifier()</pre><b>In a Jupyter environment, please rerun this cell to show the HTML representation or trust the notebook. <br />On GitHub, the HTML representation is unable to render, please try loading this page with nbviewer.org.</b></div><div class=\"sk-container\" hidden><div class=\"sk-item\"><div class=\"sk-estimator sk-toggleable\"><input class=\"sk-toggleable__control sk-hidden--visually\" id=\"sk-estimator-id-1\" type=\"checkbox\" checked><label for=\"sk-estimator-id-1\" class=\"sk-toggleable__label sk-toggleable__label-arrow\">KNeighborsClassifier</label><div class=\"sk-toggleable__content\"><pre>KNeighborsClassifier()</pre></div></div></div></div></div>"
      ],
      "text/plain": [
       "KNeighborsClassifier()"
      ]
     },
     "execution_count": 37,
     "metadata": {},
     "output_type": "execute_result"
    }
   ],
   "source": [
    "knn = KNeighborsClassifier()\n",
    "\n",
    "#model training\n",
    "knn.fit(x_train, y_train)\n"
   ]
  },
  {
   "cell_type": "code",
   "execution_count": 38,
   "id": "ac12fcbc",
   "metadata": {},
   "outputs": [
    {
     "name": "stdout",
     "output_type": "stream",
     "text": [
      "Accuracy score: 70.98%\n",
      "Accuracy score: 57.25%\n",
      "\n",
      " \n",
      " Test Classification Report \n",
      "               precision    recall  f1-score   support\n",
      "\n",
      "           3       0.00      0.00      0.00         2\n",
      "           4       0.15      0.13      0.14        15\n",
      "           5       0.62      0.69      0.65       177\n",
      "           6       0.56      0.53      0.54       160\n",
      "           7       0.54      0.44      0.49        45\n",
      "           8       0.00      0.00      0.00         1\n",
      "\n",
      "    accuracy                           0.57       400\n",
      "   macro avg       0.31      0.30      0.30       400\n",
      "weighted avg       0.56      0.57      0.57       400\n",
      "\n"
     ]
    }
   ],
   "source": [
    "metric_score(knn, x_train, x_test, y_train, y_test, train=True) #training score\n",
    "metric_score(knn, x_train, x_test, y_train, y_test, train=False) #testing score"
   ]
  },
  {
   "cell_type": "markdown",
   "id": "bac89ba8",
   "metadata": {},
   "source": [
    "It has a good accuracy score with 70%"
   ]
  },
  {
   "cell_type": "code",
   "execution_count": null,
   "id": "059371ad",
   "metadata": {},
   "outputs": [],
   "source": [
    "#cross validation score \n",
    "\n",
    "score = cross_val_score(RFC,x1,y1)\n",
    "print(score)\n",
    "print(score.mean())\n",
    "print('')"
   ]
  },
  {
   "cell_type": "markdown",
   "id": "2b7f2e71",
   "metadata": {},
   "source": [
    "From the above score we can clearly analyze that the feature selected as suitable for making of a good wine as it gives 70% score which is a good score"
   ]
  },
  {
   "cell_type": "code",
   "execution_count": 5,
   "id": "a7851ddb",
   "metadata": {},
   "outputs": [
    {
     "data": {
      "image/png": "[encoded data removed]",
      "text/plain": [
       "<Figure size 1500x800 with 12 Axes>"
      ]
     },
     "metadata": {},
     "output_type": "display_data"
    }
   ],
   "source": [
    "plt.figure(figsize=(15,8), facecolor='red')\n",
    "plotnumber = 1\n",
    "\n",
    "for column in data:\n",
    "    if plotnumber<=14:\n",
    "        ax = plt.subplot(2,6,plotnumber)\n",
    "        sns.boxplot(data[column])\n",
    "        plt.xlabel(column)\n",
    "        \n",
    "        \n",
    "    plotnumber+=1\n",
    "plt.show()"
   ]
  },
  {
   "cell_type": "code",
   "execution_count": 6,
   "id": "c302e267",
   "metadata": {},
   "outputs": [
    {
     "data": {
      "text/plain": [
       "fixed acidity           0.982751\n",
       "volatile acidity        0.671593\n",
       "citric acid             0.318337\n",
       "residual sugar          4.540655\n",
       "chlorides               5.680347\n",
       "free sulfur dioxide     1.250567\n",
       "total sulfur dioxide    1.515531\n",
       "density                 0.071288\n",
       "pH                      0.193683\n",
       "sulphates               2.428672\n",
       "alcohol                 0.860829\n",
       "quality                 0.217802\n",
       "dtype: float64"
      ]
     },
     "execution_count": 6,
     "metadata": {},
     "output_type": "execute_result"
    }
   ],
   "source": [
    "#we can see the data over here is skewed\n",
    "\n",
    "data.skew()\n"
   ]
  },
  {
   "cell_type": "markdown",
   "id": "ed2c6885",
   "metadata": {},
   "source": [
    "The column sulphates, residual sugar, chlorides, free sulfur dioxide, total sulfur dioxide have skewness in them so we need to remove it"
   ]
  },
  {
   "cell_type": "code",
   "execution_count": 9,
   "id": "7a78b780",
   "metadata": {},
   "outputs": [],
   "source": [
    "data['sulphates']=np.cbrt(data['sulphates'])\n",
    "data['residual sugar']=np.cbrt(data['residual sugar'])\n",
    "data['chlorides']=np.cbrt(data['chlorides'])\n",
    "data['free sulfur dioxide']=np.cbrt(data['free sulfur dioxide'])\n",
    "data['total sulfur dioxide']=np.cbrt(data['total sulfur dioxide'])"
   ]
  },
  {
   "cell_type": "markdown",
   "id": "475716b4",
   "metadata": {},
   "source": [
    "we have removed the skewness using cube root method"
   ]
  },
  {
   "cell_type": "code",
   "execution_count": 10,
   "id": "a4c0b93e",
   "metadata": {},
   "outputs": [
    {
     "data": {
      "text/plain": [
       "fixed acidity           0.982751\n",
       "volatile acidity        0.671593\n",
       "citric acid             0.318337\n",
       "residual sugar          2.032658\n",
       "chlorides               2.191305\n",
       "free sulfur dioxide     0.247358\n",
       "total sulfur dioxide    0.393746\n",
       "density                 0.071288\n",
       "pH                      0.193683\n",
       "sulphates               0.962745\n",
       "alcohol                 0.860829\n",
       "quality                 0.217802\n",
       "dtype: float64"
      ]
     },
     "execution_count": 10,
     "metadata": {},
     "output_type": "execute_result"
    }
   ],
   "source": [
    "data.skew()"
   ]
  },
  {
   "cell_type": "code",
   "execution_count": 39,
   "id": "0e20e5a3",
   "metadata": {},
   "outputs": [
    {
     "data": {
      "image/png": "[encoded data removed]",
      "text/plain": [
       "<Figure size 1500x800 with 12 Axes>"
      ]
     },
     "metadata": {},
     "output_type": "display_data"
    }
   ],
   "source": [
    "plt.figure(figsize=(15,8), facecolor='green')\n",
    "plotnumber = 1\n",
    "\n",
    "for column in data:\n",
    "    if plotnumber<=14:\n",
    "        ax = plt.subplot(2,6,plotnumber)\n",
    "        sns.distplot(data[column])\n",
    "        plt.xlabel(column,fontsize=20)\n",
    "        \n",
    "    plotnumber+=1\n",
    "plt.tight_layout()"
   ]
  },
  {
   "cell_type": "code",
   "execution_count": 40,
   "id": "366a501d",
   "metadata": {},
   "outputs": [
    {
     "data": {
      "text/html": [
       "<div>\n",
       "<style scoped>\n",
       "    .dataframe tbody tr th:only-of-type {\n",
       "        vertical-align: middle;\n",
       "    }\n",
       "\n",
       "    .dataframe tbody tr th {\n",
       "        vertical-align: top;\n",
       "    }\n",
       "\n",
       "    .dataframe thead th {\n",
       "        text-align: right;\n",
       "    }\n",
       "</style>\n",
       "<table border=\"1\" class=\"dataframe\">\n",
       "  <thead>\n",
       "    <tr style=\"text-align: right;\">\n",
       "      <th></th>\n",
       "      <th>fixed acidity</th>\n",
       "      <th>volatile acidity</th>\n",
       "      <th>citric acid</th>\n",
       "      <th>residual sugar</th>\n",
       "      <th>chlorides</th>\n",
       "      <th>free sulfur dioxide</th>\n",
       "      <th>total sulfur dioxide</th>\n",
       "      <th>density</th>\n",
       "      <th>pH</th>\n",
       "      <th>sulphates</th>\n",
       "      <th>alcohol</th>\n",
       "      <th>quality</th>\n",
       "    </tr>\n",
       "  </thead>\n",
       "  <tbody>\n",
       "    <tr>\n",
       "      <th>fixed acidity</th>\n",
       "      <td>1.000000</td>\n",
       "      <td>-0.256131</td>\n",
       "      <td>0.671703</td>\n",
       "      <td>0.169158</td>\n",
       "      <td>0.167078</td>\n",
       "      <td>-0.174701</td>\n",
       "      <td>-0.119267</td>\n",
       "      <td>0.668047</td>\n",
       "      <td>-0.682978</td>\n",
       "      <td>0.203797</td>\n",
       "      <td>-0.061668</td>\n",
       "      <td>0.124052</td>\n",
       "    </tr>\n",
       "    <tr>\n",
       "      <th>volatile acidity</th>\n",
       "      <td>-0.256131</td>\n",
       "      <td>1.000000</td>\n",
       "      <td>-0.552496</td>\n",
       "      <td>0.022261</td>\n",
       "      <td>0.104328</td>\n",
       "      <td>0.006006</td>\n",
       "      <td>0.076637</td>\n",
       "      <td>0.022026</td>\n",
       "      <td>0.234937</td>\n",
       "      <td>-0.299497</td>\n",
       "      <td>-0.202288</td>\n",
       "      <td>-0.390558</td>\n",
       "    </tr>\n",
       "    <tr>\n",
       "      <th>citric acid</th>\n",
       "      <td>0.671703</td>\n",
       "      <td>-0.552496</td>\n",
       "      <td>1.000000</td>\n",
       "      <td>0.170254</td>\n",
       "      <td>0.185882</td>\n",
       "      <td>-0.080850</td>\n",
       "      <td>0.009224</td>\n",
       "      <td>0.364947</td>\n",
       "      <td>-0.541904</td>\n",
       "      <td>0.331194</td>\n",
       "      <td>0.109903</td>\n",
       "      <td>0.226373</td>\n",
       "    </tr>\n",
       "    <tr>\n",
       "      <th>residual sugar</th>\n",
       "      <td>0.169158</td>\n",
       "      <td>0.022261</td>\n",
       "      <td>0.170254</td>\n",
       "      <td>1.000000</td>\n",
       "      <td>0.109169</td>\n",
       "      <td>0.114658</td>\n",
       "      <td>0.170774</td>\n",
       "      <td>0.412549</td>\n",
       "      <td>-0.091355</td>\n",
       "      <td>0.023372</td>\n",
       "      <td>0.077840</td>\n",
       "      <td>0.022629</td>\n",
       "    </tr>\n",
       "    <tr>\n",
       "      <th>chlorides</th>\n",
       "      <td>0.167078</td>\n",
       "      <td>0.104328</td>\n",
       "      <td>0.185882</td>\n",
       "      <td>0.109169</td>\n",
       "      <td>1.000000</td>\n",
       "      <td>-0.010200</td>\n",
       "      <td>0.070256</td>\n",
       "      <td>0.336453</td>\n",
       "      <td>-0.284134</td>\n",
       "      <td>0.254470</td>\n",
       "      <td>-0.296304</td>\n",
       "      <td>-0.171688</td>\n",
       "    </tr>\n",
       "    <tr>\n",
       "      <th>free sulfur dioxide</th>\n",
       "      <td>-0.174701</td>\n",
       "      <td>0.006006</td>\n",
       "      <td>-0.080850</td>\n",
       "      <td>0.114658</td>\n",
       "      <td>-0.010200</td>\n",
       "      <td>1.000000</td>\n",
       "      <td>0.757872</td>\n",
       "      <td>-0.036124</td>\n",
       "      <td>0.089701</td>\n",
       "      <td>0.054028</td>\n",
       "      <td>-0.078642</td>\n",
       "      <td>-0.051243</td>\n",
       "    </tr>\n",
       "    <tr>\n",
       "      <th>total sulfur dioxide</th>\n",
       "      <td>-0.119267</td>\n",
       "      <td>0.076637</td>\n",
       "      <td>0.009224</td>\n",
       "      <td>0.170774</td>\n",
       "      <td>0.070256</td>\n",
       "      <td>0.757872</td>\n",
       "      <td>1.000000</td>\n",
       "      <td>0.095461</td>\n",
       "      <td>-0.031335</td>\n",
       "      <td>0.039008</td>\n",
       "      <td>-0.226780</td>\n",
       "      <td>-0.180815</td>\n",
       "    </tr>\n",
       "    <tr>\n",
       "      <th>density</th>\n",
       "      <td>0.668047</td>\n",
       "      <td>0.022026</td>\n",
       "      <td>0.364947</td>\n",
       "      <td>0.412549</td>\n",
       "      <td>0.336453</td>\n",
       "      <td>-0.036124</td>\n",
       "      <td>0.095461</td>\n",
       "      <td>1.000000</td>\n",
       "      <td>-0.341699</td>\n",
       "      <td>0.165604</td>\n",
       "      <td>-0.496180</td>\n",
       "      <td>-0.174919</td>\n",
       "    </tr>\n",
       "    <tr>\n",
       "      <th>pH</th>\n",
       "      <td>-0.682978</td>\n",
       "      <td>0.234937</td>\n",
       "      <td>-0.541904</td>\n",
       "      <td>-0.091355</td>\n",
       "      <td>-0.284134</td>\n",
       "      <td>0.089701</td>\n",
       "      <td>-0.031335</td>\n",
       "      <td>-0.341699</td>\n",
       "      <td>1.000000</td>\n",
       "      <td>-0.155714</td>\n",
       "      <td>0.205633</td>\n",
       "      <td>-0.057731</td>\n",
       "    </tr>\n",
       "    <tr>\n",
       "      <th>sulphates</th>\n",
       "      <td>0.203797</td>\n",
       "      <td>-0.299497</td>\n",
       "      <td>0.331194</td>\n",
       "      <td>0.023372</td>\n",
       "      <td>0.254470</td>\n",
       "      <td>0.054028</td>\n",
       "      <td>0.039008</td>\n",
       "      <td>0.165604</td>\n",
       "      <td>-0.155714</td>\n",
       "      <td>1.000000</td>\n",
       "      <td>0.133913</td>\n",
       "      <td>0.306998</td>\n",
       "    </tr>\n",
       "    <tr>\n",
       "      <th>alcohol</th>\n",
       "      <td>-0.061668</td>\n",
       "      <td>-0.202288</td>\n",
       "      <td>0.109903</td>\n",
       "      <td>0.077840</td>\n",
       "      <td>-0.296304</td>\n",
       "      <td>-0.078642</td>\n",
       "      <td>-0.226780</td>\n",
       "      <td>-0.496180</td>\n",
       "      <td>0.205633</td>\n",
       "      <td>0.133913</td>\n",
       "      <td>1.000000</td>\n",
       "      <td>0.476166</td>\n",
       "    </tr>\n",
       "    <tr>\n",
       "      <th>quality</th>\n",
       "      <td>0.124052</td>\n",
       "      <td>-0.390558</td>\n",
       "      <td>0.226373</td>\n",
       "      <td>0.022629</td>\n",
       "      <td>-0.171688</td>\n",
       "      <td>-0.051243</td>\n",
       "      <td>-0.180815</td>\n",
       "      <td>-0.174919</td>\n",
       "      <td>-0.057731</td>\n",
       "      <td>0.306998</td>\n",
       "      <td>0.476166</td>\n",
       "      <td>1.000000</td>\n",
       "    </tr>\n",
       "  </tbody>\n",
       "</table>\n",
       "</div>"
      ],
      "text/plain": [
       "                      fixed acidity  volatile acidity  citric acid  \\\n",
       "fixed acidity              1.000000         -0.256131     0.671703   \n",
       "volatile acidity          -0.256131          1.000000    -0.552496   \n",
       "citric acid                0.671703         -0.552496     1.000000   \n",
       "residual sugar             0.169158          0.022261     0.170254   \n",
       "chlorides                  0.167078          0.104328     0.185882   \n",
       "free sulfur dioxide       -0.174701          0.006006    -0.080850   \n",
       "total sulfur dioxide      -0.119267          0.076637     0.009224   \n",
       "density                    0.668047          0.022026     0.364947   \n",
       "pH                        -0.682978          0.234937    -0.541904   \n",
       "sulphates                  0.203797         -0.299497     0.331194   \n",
       "alcohol                   -0.061668         -0.202288     0.109903   \n",
       "quality                    0.124052         -0.390558     0.226373   \n",
       "\n",
       "                      residual sugar  chlorides  free sulfur dioxide  \\\n",
       "fixed acidity               0.169158   0.167078            -0.174701   \n",
       "volatile acidity            0.022261   0.104328             0.006006   \n",
       "citric acid                 0.170254   0.185882            -0.080850   \n",
       "residual sugar              1.000000   0.109169             0.114658   \n",
       "chlorides                   0.109169   1.000000            -0.010200   \n",
       "free sulfur dioxide         0.114658  -0.010200             1.000000   \n",
       "total sulfur dioxide        0.170774   0.070256             0.757872   \n",
       "density                     0.412549   0.336453            -0.036124   \n",
       "pH                         -0.091355  -0.284134             0.089701   \n",
       "sulphates                   0.023372   0.254470             0.054028   \n",
       "alcohol                     0.077840  -0.296304            -0.078642   \n",
       "quality                     0.022629  -0.171688            -0.051243   \n",
       "\n",
       "                      total sulfur dioxide   density        pH  sulphates  \\\n",
       "fixed acidity                    -0.119267  0.668047 -0.682978   0.203797   \n",
       "volatile acidity                  0.076637  0.022026  0.234937  -0.299497   \n",
       "citric acid                       0.009224  0.364947 -0.541904   0.331194   \n",
       "residual sugar                    0.170774  0.412549 -0.091355   0.023372   \n",
       "chlorides                         0.070256  0.336453 -0.284134   0.254470   \n",
       "free sulfur dioxide               0.757872 -0.036124  0.089701   0.054028   \n",
       "total sulfur dioxide              1.000000  0.095461 -0.031335   0.039008   \n",
       "density                           0.095461  1.000000 -0.341699   0.165604   \n",
       "pH                               -0.031335 -0.341699  1.000000  -0.155714   \n",
       "sulphates                         0.039008  0.165604 -0.155714   1.000000   \n",
       "alcohol                          -0.226780 -0.496180  0.205633   0.133913   \n",
       "quality                          -0.180815 -0.174919 -0.057731   0.306998   \n",
       "\n",
       "                       alcohol   quality  \n",
       "fixed acidity        -0.061668  0.124052  \n",
       "volatile acidity     -0.202288 -0.390558  \n",
       "citric acid           0.109903  0.226373  \n",
       "residual sugar        0.077840  0.022629  \n",
       "chlorides            -0.296304 -0.171688  \n",
       "free sulfur dioxide  -0.078642 -0.051243  \n",
       "total sulfur dioxide -0.226780 -0.180815  \n",
       "density              -0.496180 -0.174919  \n",
       "pH                    0.205633 -0.057731  \n",
       "sulphates             0.133913  0.306998  \n",
       "alcohol               1.000000  0.476166  \n",
       "quality               0.476166  1.000000  "
      ]
     },
     "execution_count": 40,
     "metadata": {},
     "output_type": "execute_result"
    }
   ],
   "source": [
    "#checking the correlation between feature and the target.\n",
    "\n",
    "cor = data.corr()\n",
    "cor"
   ]
  },
  {
   "cell_type": "code",
   "execution_count": 14,
   "id": "1cbf527d",
   "metadata": {},
   "outputs": [
    {
     "data": {
      "image/png": "[encoded data removed]",
      "text/plain": [
       "<Figure size 1500x800 with 2 Axes>"
      ]
     },
     "metadata": {},
     "output_type": "display_data"
    }
   ],
   "source": [
    "\n",
    "plt.figure(figsize=(15,8), facecolor='green')\n",
    "sns.heatmap(data.corr(), linewidths = 0.1, fmt = '.1g', linecolor = 'black', annot = True, cmap = 'Blues_r')\n",
    "plt.yticks(rotation = 0);\n",
    "plt.show()"
   ]
  },
  {
   "cell_type": "markdown",
   "id": "3f31658f",
   "metadata": {},
   "source": [
    "This heatmap shows the correlation matrix by visualizing the data. There are not that much positive relation among the target and the feature. "
   ]
  },
  {
   "cell_type": "code",
   "execution_count": 15,
   "id": "782f5dd1",
   "metadata": {},
   "outputs": [
    {
     "data": {
      "text/plain": [
       "quality                 1.000000\n",
       "alcohol                 0.476166\n",
       "sulphates               0.306998\n",
       "citric acid             0.226373\n",
       "fixed acidity           0.124052\n",
       "residual sugar          0.022629\n",
       "free sulfur dioxide    -0.051243\n",
       "pH                     -0.057731\n",
       "chlorides              -0.171688\n",
       "density                -0.174919\n",
       "total sulfur dioxide   -0.180815\n",
       "volatile acidity       -0.390558\n",
       "Name: quality, dtype: float64"
      ]
     },
     "execution_count": 15,
     "metadata": {},
     "output_type": "execute_result"
    }
   ],
   "source": [
    "cor['quality'].sort_values(ascending = False)"
   ]
  },
  {
   "cell_type": "code",
   "execution_count": 41,
   "id": "df060496",
   "metadata": {},
   "outputs": [],
   "source": [
    "x = data.drop('quality', axis=1)\n",
    "y = data.quality"
   ]
  },
  {
   "cell_type": "code",
   "execution_count": 42,
   "id": "9ad86fb2",
   "metadata": {},
   "outputs": [
    {
     "data": {
      "text/html": [
       "<div>\n",
       "<style scoped>\n",
       "    .dataframe tbody tr th:only-of-type {\n",
       "        vertical-align: middle;\n",
       "    }\n",
       "\n",
       "    .dataframe tbody tr th {\n",
       "        vertical-align: top;\n",
       "    }\n",
       "\n",
       "    .dataframe thead th {\n",
       "        text-align: right;\n",
       "    }\n",
       "</style>\n",
       "<table border=\"1\" class=\"dataframe\">\n",
       "  <thead>\n",
       "    <tr style=\"text-align: right;\">\n",
       "      <th></th>\n",
       "      <th>fixed acidity</th>\n",
       "      <th>volatile acidity</th>\n",
       "      <th>citric acid</th>\n",
       "      <th>residual sugar</th>\n",
       "      <th>chlorides</th>\n",
       "      <th>free sulfur dioxide</th>\n",
       "      <th>total sulfur dioxide</th>\n",
       "      <th>density</th>\n",
       "      <th>pH</th>\n",
       "      <th>sulphates</th>\n",
       "      <th>alcohol</th>\n",
       "    </tr>\n",
       "  </thead>\n",
       "  <tbody>\n",
       "    <tr>\n",
       "      <th>0</th>\n",
       "      <td>7.4</td>\n",
       "      <td>0.700</td>\n",
       "      <td>0.00</td>\n",
       "      <td>1.073922</td>\n",
       "      <td>0.751010</td>\n",
       "      <td>2.223980</td>\n",
       "      <td>3.239612</td>\n",
       "      <td>0.99780</td>\n",
       "      <td>3.51</td>\n",
       "      <td>0.978754</td>\n",
       "      <td>9.4</td>\n",
       "    </tr>\n",
       "    <tr>\n",
       "      <th>1</th>\n",
       "      <td>7.8</td>\n",
       "      <td>0.880</td>\n",
       "      <td>0.00</td>\n",
       "      <td>1.112009</td>\n",
       "      <td>0.772528</td>\n",
       "      <td>2.924018</td>\n",
       "      <td>4.061548</td>\n",
       "      <td>0.99680</td>\n",
       "      <td>3.20</td>\n",
       "      <td>0.985818</td>\n",
       "      <td>9.8</td>\n",
       "    </tr>\n",
       "    <tr>\n",
       "      <th>2</th>\n",
       "      <td>7.8</td>\n",
       "      <td>0.760</td>\n",
       "      <td>0.04</td>\n",
       "      <td>1.096963</td>\n",
       "      <td>0.767124</td>\n",
       "      <td>2.466212</td>\n",
       "      <td>3.779763</td>\n",
       "      <td>0.99700</td>\n",
       "      <td>3.26</td>\n",
       "      <td>0.984172</td>\n",
       "      <td>9.8</td>\n",
       "    </tr>\n",
       "    <tr>\n",
       "      <th>3</th>\n",
       "      <td>11.2</td>\n",
       "      <td>0.280</td>\n",
       "      <td>0.56</td>\n",
       "      <td>1.073922</td>\n",
       "      <td>0.749906</td>\n",
       "      <td>2.571282</td>\n",
       "      <td>3.914868</td>\n",
       "      <td>0.99800</td>\n",
       "      <td>3.16</td>\n",
       "      <td>0.980027</td>\n",
       "      <td>9.8</td>\n",
       "    </tr>\n",
       "    <tr>\n",
       "      <th>4</th>\n",
       "      <td>7.4</td>\n",
       "      <td>0.700</td>\n",
       "      <td>0.00</td>\n",
       "      <td>1.073922</td>\n",
       "      <td>0.751010</td>\n",
       "      <td>2.223980</td>\n",
       "      <td>3.239612</td>\n",
       "      <td>0.99780</td>\n",
       "      <td>3.51</td>\n",
       "      <td>0.978754</td>\n",
       "      <td>9.4</td>\n",
       "    </tr>\n",
       "    <tr>\n",
       "      <th>...</th>\n",
       "      <td>...</td>\n",
       "      <td>...</td>\n",
       "      <td>...</td>\n",
       "      <td>...</td>\n",
       "      <td>...</td>\n",
       "      <td>...</td>\n",
       "      <td>...</td>\n",
       "      <td>...</td>\n",
       "      <td>...</td>\n",
       "      <td>...</td>\n",
       "      <td>...</td>\n",
       "    </tr>\n",
       "    <tr>\n",
       "      <th>1594</th>\n",
       "      <td>6.2</td>\n",
       "      <td>0.600</td>\n",
       "      <td>0.08</td>\n",
       "      <td>1.080060</td>\n",
       "      <td>0.765252</td>\n",
       "      <td>3.174802</td>\n",
       "      <td>3.530348</td>\n",
       "      <td>0.99490</td>\n",
       "      <td>3.45</td>\n",
       "      <td>0.980027</td>\n",
       "      <td>10.5</td>\n",
       "    </tr>\n",
       "    <tr>\n",
       "      <th>1595</th>\n",
       "      <td>5.9</td>\n",
       "      <td>0.550</td>\n",
       "      <td>0.10</td>\n",
       "      <td>1.091558</td>\n",
       "      <td>0.734212</td>\n",
       "      <td>3.391211</td>\n",
       "      <td>3.708430</td>\n",
       "      <td>0.99512</td>\n",
       "      <td>3.52</td>\n",
       "      <td>0.989887</td>\n",
       "      <td>11.2</td>\n",
       "    </tr>\n",
       "    <tr>\n",
       "      <th>1596</th>\n",
       "      <td>6.3</td>\n",
       "      <td>0.510</td>\n",
       "      <td>0.13</td>\n",
       "      <td>1.096963</td>\n",
       "      <td>0.751010</td>\n",
       "      <td>3.072317</td>\n",
       "      <td>3.419952</td>\n",
       "      <td>0.99574</td>\n",
       "      <td>3.42</td>\n",
       "      <td>0.989402</td>\n",
       "      <td>11.0</td>\n",
       "    </tr>\n",
       "    <tr>\n",
       "      <th>1597</th>\n",
       "      <td>5.9</td>\n",
       "      <td>0.645</td>\n",
       "      <td>0.12</td>\n",
       "      <td>1.080060</td>\n",
       "      <td>0.749906</td>\n",
       "      <td>3.174802</td>\n",
       "      <td>3.530348</td>\n",
       "      <td>0.99547</td>\n",
       "      <td>3.57</td>\n",
       "      <td>0.987395</td>\n",
       "      <td>10.2</td>\n",
       "    </tr>\n",
       "    <tr>\n",
       "      <th>1598</th>\n",
       "      <td>6.0</td>\n",
       "      <td>0.310</td>\n",
       "      <td>0.47</td>\n",
       "      <td>1.152952</td>\n",
       "      <td>0.740566</td>\n",
       "      <td>2.620741</td>\n",
       "      <td>3.476027</td>\n",
       "      <td>0.99549</td>\n",
       "      <td>3.39</td>\n",
       "      <td>0.984728</td>\n",
       "      <td>11.0</td>\n",
       "    </tr>\n",
       "  </tbody>\n",
       "</table>\n",
       "<p>1599 rows × 11 columns</p>\n",
       "</div>"
      ],
      "text/plain": [
       "      fixed acidity  volatile acidity  citric acid  residual sugar  chlorides  \\\n",
       "0               7.4             0.700         0.00        1.073922   0.751010   \n",
       "1               7.8             0.880         0.00        1.112009   0.772528   \n",
       "2               7.8             0.760         0.04        1.096963   0.767124   \n",
       "3              11.2             0.280         0.56        1.073922   0.749906   \n",
       "4               7.4             0.700         0.00        1.073922   0.751010   \n",
       "...             ...               ...          ...             ...        ...   \n",
       "1594            6.2             0.600         0.08        1.080060   0.765252   \n",
       "1595            5.9             0.550         0.10        1.091558   0.734212   \n",
       "1596            6.3             0.510         0.13        1.096963   0.751010   \n",
       "1597            5.9             0.645         0.12        1.080060   0.749906   \n",
       "1598            6.0             0.310         0.47        1.152952   0.740566   \n",
       "\n",
       "      free sulfur dioxide  total sulfur dioxide  density    pH  sulphates  \\\n",
       "0                2.223980              3.239612  0.99780  3.51   0.978754   \n",
       "1                2.924018              4.061548  0.99680  3.20   0.985818   \n",
       "2                2.466212              3.779763  0.99700  3.26   0.984172   \n",
       "3                2.571282              3.914868  0.99800  3.16   0.980027   \n",
       "4                2.223980              3.239612  0.99780  3.51   0.978754   \n",
       "...                   ...                   ...      ...   ...        ...   \n",
       "1594             3.174802              3.530348  0.99490  3.45   0.980027   \n",
       "1595             3.391211              3.708430  0.99512  3.52   0.989887   \n",
       "1596             3.072317              3.419952  0.99574  3.42   0.989402   \n",
       "1597             3.174802              3.530348  0.99547  3.57   0.987395   \n",
       "1598             2.620741              3.476027  0.99549  3.39   0.984728   \n",
       "\n",
       "      alcohol  \n",
       "0         9.4  \n",
       "1         9.8  \n",
       "2         9.8  \n",
       "3         9.8  \n",
       "4         9.4  \n",
       "...       ...  \n",
       "1594     10.5  \n",
       "1595     11.2  \n",
       "1596     11.0  \n",
       "1597     10.2  \n",
       "1598     11.0  \n",
       "\n",
       "[1599 rows x 11 columns]"
      ]
     },
     "execution_count": 42,
     "metadata": {},
     "output_type": "execute_result"
    }
   ],
   "source": [
    "scalar = StandardScaler()\n",
    "x_scalar = pd.DataFrame(scalar.fit_transform(x), columns = x.columns)\n",
    "x"
   ]
  },
  {
   "cell_type": "markdown",
   "id": "75ff1200",
   "metadata": {},
   "source": [
    "We are able to tackle the issue of biasness through standard scalar method"
   ]
  },
  {
   "cell_type": "code",
   "execution_count": 43,
   "id": "c74217e2",
   "metadata": {},
   "outputs": [
    {
     "data": {
      "text/html": [
       "<div>\n",
       "<style scoped>\n",
       "    .dataframe tbody tr th:only-of-type {\n",
       "        vertical-align: middle;\n",
       "    }\n",
       "\n",
       "    .dataframe tbody tr th {\n",
       "        vertical-align: top;\n",
       "    }\n",
       "\n",
       "    .dataframe thead th {\n",
       "        text-align: right;\n",
       "    }\n",
       "</style>\n",
       "<table border=\"1\" class=\"dataframe\">\n",
       "  <thead>\n",
       "    <tr style=\"text-align: right;\">\n",
       "      <th></th>\n",
       "      <th>VIF Values</th>\n",
       "      <th>Features</th>\n",
       "    </tr>\n",
       "  </thead>\n",
       "  <tbody>\n",
       "    <tr>\n",
       "      <th>0</th>\n",
       "      <td>70.159403</td>\n",
       "      <td>fixed acidity</td>\n",
       "    </tr>\n",
       "    <tr>\n",
       "      <th>1</th>\n",
       "      <td>17.088594</td>\n",
       "      <td>volatile acidity</td>\n",
       "    </tr>\n",
       "    <tr>\n",
       "      <th>2</th>\n",
       "      <td>8.799688</td>\n",
       "      <td>citric acid</td>\n",
       "    </tr>\n",
       "    <tr>\n",
       "      <th>3</th>\n",
       "      <td>691.456531</td>\n",
       "      <td>residual sugar</td>\n",
       "    </tr>\n",
       "    <tr>\n",
       "      <th>4</th>\n",
       "      <td>985.665977</td>\n",
       "      <td>chlorides</td>\n",
       "    </tr>\n",
       "    <tr>\n",
       "      <th>5</th>\n",
       "      <td>53.819823</td>\n",
       "      <td>free sulfur dioxide</td>\n",
       "    </tr>\n",
       "    <tr>\n",
       "      <th>6</th>\n",
       "      <td>54.368437</td>\n",
       "      <td>total sulfur dioxide</td>\n",
       "    </tr>\n",
       "    <tr>\n",
       "      <th>7</th>\n",
       "      <td>20735.206631</td>\n",
       "      <td>density</td>\n",
       "    </tr>\n",
       "    <tr>\n",
       "      <th>8</th>\n",
       "      <td>1039.253259</td>\n",
       "      <td>pH</td>\n",
       "    </tr>\n",
       "    <tr>\n",
       "      <th>9</th>\n",
       "      <td>19512.900994</td>\n",
       "      <td>sulphates</td>\n",
       "    </tr>\n",
       "    <tr>\n",
       "      <th>10</th>\n",
       "      <td>139.128605</td>\n",
       "      <td>alcohol</td>\n",
       "    </tr>\n",
       "  </tbody>\n",
       "</table>\n",
       "</div>"
      ],
      "text/plain": [
       "      VIF Values              Features\n",
       "0      70.159403         fixed acidity\n",
       "1      17.088594      volatile acidity\n",
       "2       8.799688           citric acid\n",
       "3     691.456531        residual sugar\n",
       "4     985.665977             chlorides\n",
       "5      53.819823   free sulfur dioxide\n",
       "6      54.368437  total sulfur dioxide\n",
       "7   20735.206631               density\n",
       "8    1039.253259                    pH\n",
       "9   19512.900994             sulphates\n",
       "10    139.128605               alcohol"
      ]
     },
     "execution_count": 43,
     "metadata": {},
     "output_type": "execute_result"
    }
   ],
   "source": [
    "#checking variance inflation factor\n",
    "\n",
    "from statsmodels.stats.outliers_influence import variance_inflation_factor\n",
    "vif = pd.DataFrame()\n",
    "vif['VIF Values']=[variance_inflation_factor(x.values, i) for i in range(len(x.columns))]\n",
    "vif['Features']=x.columns\n",
    "vif"
   ]
  },
  {
   "cell_type": "markdown",
   "id": "1161c466",
   "metadata": {},
   "source": [
    "VIF values shows that each feature have have correlation with each other so this show the multicollineraity problem so we will remove the feature \n",
    "with high vif value\n"
   ]
  },
  {
   "cell_type": "code",
   "execution_count": 19,
   "id": "000d21dd",
   "metadata": {},
   "outputs": [],
   "source": [
    "x.drop('density', axis=1, inplace=True)"
   ]
  },
  {
   "cell_type": "code",
   "execution_count": 20,
   "id": "d1d93ce0",
   "metadata": {},
   "outputs": [],
   "source": [
    "x.drop('sulphates', axis=1, inplace=True)"
   ]
  },
  {
   "cell_type": "markdown",
   "id": "244b8621",
   "metadata": {},
   "source": [
    "We need to drop the columns to reduce VIF values for the better prediction"
   ]
  },
  {
   "cell_type": "code",
   "execution_count": 44,
   "id": "61ec7581",
   "metadata": {},
   "outputs": [
    {
     "data": {
      "text/html": [
       "<div>\n",
       "<style scoped>\n",
       "    .dataframe tbody tr th:only-of-type {\n",
       "        vertical-align: middle;\n",
       "    }\n",
       "\n",
       "    .dataframe tbody tr th {\n",
       "        vertical-align: top;\n",
       "    }\n",
       "\n",
       "    .dataframe thead th {\n",
       "        text-align: right;\n",
       "    }\n",
       "</style>\n",
       "<table border=\"1\" class=\"dataframe\">\n",
       "  <thead>\n",
       "    <tr style=\"text-align: right;\">\n",
       "      <th></th>\n",
       "      <th>VIF Values</th>\n",
       "      <th>Features</th>\n",
       "    </tr>\n",
       "  </thead>\n",
       "  <tbody>\n",
       "    <tr>\n",
       "      <th>0</th>\n",
       "      <td>70.159403</td>\n",
       "      <td>fixed acidity</td>\n",
       "    </tr>\n",
       "    <tr>\n",
       "      <th>1</th>\n",
       "      <td>17.088594</td>\n",
       "      <td>volatile acidity</td>\n",
       "    </tr>\n",
       "    <tr>\n",
       "      <th>2</th>\n",
       "      <td>8.799688</td>\n",
       "      <td>citric acid</td>\n",
       "    </tr>\n",
       "    <tr>\n",
       "      <th>3</th>\n",
       "      <td>691.456531</td>\n",
       "      <td>residual sugar</td>\n",
       "    </tr>\n",
       "    <tr>\n",
       "      <th>4</th>\n",
       "      <td>985.665977</td>\n",
       "      <td>chlorides</td>\n",
       "    </tr>\n",
       "    <tr>\n",
       "      <th>5</th>\n",
       "      <td>53.819823</td>\n",
       "      <td>free sulfur dioxide</td>\n",
       "    </tr>\n",
       "    <tr>\n",
       "      <th>6</th>\n",
       "      <td>54.368437</td>\n",
       "      <td>total sulfur dioxide</td>\n",
       "    </tr>\n",
       "    <tr>\n",
       "      <th>7</th>\n",
       "      <td>20735.206631</td>\n",
       "      <td>density</td>\n",
       "    </tr>\n",
       "    <tr>\n",
       "      <th>8</th>\n",
       "      <td>1039.253259</td>\n",
       "      <td>pH</td>\n",
       "    </tr>\n",
       "    <tr>\n",
       "      <th>9</th>\n",
       "      <td>19512.900994</td>\n",
       "      <td>sulphates</td>\n",
       "    </tr>\n",
       "    <tr>\n",
       "      <th>10</th>\n",
       "      <td>139.128605</td>\n",
       "      <td>alcohol</td>\n",
       "    </tr>\n",
       "  </tbody>\n",
       "</table>\n",
       "</div>"
      ],
      "text/plain": [
       "      VIF Values              Features\n",
       "0      70.159403         fixed acidity\n",
       "1      17.088594      volatile acidity\n",
       "2       8.799688           citric acid\n",
       "3     691.456531        residual sugar\n",
       "4     985.665977             chlorides\n",
       "5      53.819823   free sulfur dioxide\n",
       "6      54.368437  total sulfur dioxide\n",
       "7   20735.206631               density\n",
       "8    1039.253259                    pH\n",
       "9   19512.900994             sulphates\n",
       "10    139.128605               alcohol"
      ]
     },
     "execution_count": 44,
     "metadata": {},
     "output_type": "execute_result"
    }
   ],
   "source": [
    "#again checking vif to see multicollinearity\n",
    "vif = pd.DataFrame()\n",
    "vif['VIF Values']=[variance_inflation_factor(x.values, i) for i in range(len(x.columns))]\n",
    "vif['Features']=x.columns\n",
    "vif"
   ]
  },
  {
   "cell_type": "code",
   "execution_count": 23,
   "id": "a3ae8b17",
   "metadata": {},
   "outputs": [],
   "source": [
    "x.drop('pH', axis=1, inplace=True)"
   ]
  },
  {
   "cell_type": "code",
   "execution_count": 25,
   "id": "03b554aa",
   "metadata": {},
   "outputs": [
    {
     "data": {
      "text/plain": [
       "5    681\n",
       "6    638\n",
       "7    199\n",
       "4     53\n",
       "8     18\n",
       "3     10\n",
       "Name: quality, dtype: int64"
      ]
     },
     "execution_count": 25,
     "metadata": {},
     "output_type": "execute_result"
    }
   ],
   "source": [
    "y.value_counts()"
   ]
  },
  {
   "cell_type": "markdown",
   "id": "d7aa0889",
   "metadata": {},
   "source": [
    "Here the data is not balanced so we will solve it using oversampling method"
   ]
  },
  {
   "cell_type": "code",
   "execution_count": 26,
   "id": "40a013bf",
   "metadata": {},
   "outputs": [
    {
     "name": "stdout",
     "output_type": "stream",
     "text": [
      "Defaulting to user installation because normal site-packages is not writeable\n",
      "Collecting imblearn\n",
      "  Downloading imblearn-0.0-py2.py3-none-any.whl (1.9 kB)\n",
      "Requirement already satisfied: imbalanced-learn in c:\\programdata\\anaconda3\\lib\\site-packages (from imblearn) (0.10.1)\n",
      "Requirement already satisfied: numpy>=1.17.3 in c:\\programdata\\anaconda3\\lib\\site-packages (from imbalanced-learn->imblearn) (1.23.5)\n",
      "Requirement already satisfied: threadpoolctl>=2.0.0 in c:\\programdata\\anaconda3\\lib\\site-packages (from imbalanced-learn->imblearn) (2.2.0)\n",
      "Requirement already satisfied: joblib>=1.1.1 in c:\\programdata\\anaconda3\\lib\\site-packages (from imbalanced-learn->imblearn) (1.1.1)\n",
      "Requirement already satisfied: scikit-learn>=1.0.2 in c:\\programdata\\anaconda3\\lib\\site-packages (from imbalanced-learn->imblearn) (1.2.1)\n",
      "Requirement already satisfied: scipy>=1.3.2 in c:\\programdata\\anaconda3\\lib\\site-packages (from imbalanced-learn->imblearn) (1.10.0)\n",
      "Installing collected packages: imblearn\n",
      "Successfully installed imblearn-0.0\n"
     ]
    }
   ],
   "source": [
    "!pip install imblearn\n",
    "from imblearn.over_sampling import SMOTE\n",
    "SM=SMOTE()\n",
    "x1,y1 = SM.fit_resample(x,y)"
   ]
  },
  {
   "cell_type": "code",
   "execution_count": 45,
   "id": "c2ce3f4b",
   "metadata": {},
   "outputs": [
    {
     "data": {
      "text/plain": [
       "5    681\n",
       "6    638\n",
       "7    199\n",
       "4     53\n",
       "8     18\n",
       "3     10\n",
       "Name: quality, dtype: int64"
      ]
     },
     "execution_count": 45,
     "metadata": {},
     "output_type": "execute_result"
    }
   ],
   "source": [
    "y.value_counts()"
   ]
  },
  {
   "cell_type": "code",
   "execution_count": null,
   "id": "00b9c2ad",
   "metadata": {},
   "outputs": [],
   "source": []
  },
  {
   "cell_type": "code",
   "execution_count": 52,
   "id": "9d1ff362",
   "metadata": {},
   "outputs": [],
   "source": [
    "x_train, x_test, y_train, y_test = train_test_split(x,y, test_size = 0.30, random_state = maxRS)"
   ]
  },
  {
   "cell_type": "code",
   "execution_count": 60,
   "id": "129e93cc",
   "metadata": {},
   "outputs": [],
   "source": [
    "from sklearn.ensemble import ExtraTreesClassifier\n",
    "\n"
   ]
  },
  {
   "cell_type": "code",
   "execution_count": 51,
   "id": "a886fd22",
   "metadata": {},
   "outputs": [
    {
     "name": "stdout",
     "output_type": "stream",
     "text": [
      "Best accuracy score is  0.8817292006525286 on random_state 178\n"
     ]
    }
   ],
   "source": [
    "from sklearn.ensemble import RandomForestClassifier\n",
    "\n",
    "maxAccu=0\n",
    "maxRS=0\n",
    "for i in range(1,500):\n",
    "    x_train,x_test,y_train,y_test = train_test_split(x1,y1,test_size=.30, random_state=i)\n",
    "    RFR=RandomForestClassifier()\n",
    "    RFR.fit(x_train,y_train)\n",
    "    pred = RFR.predict(x_test)\n",
    "    acc = accuracy_score(y_test,pred)\n",
    "    if acc>maxAccu:\n",
    "        maxAccu=acc\n",
    "        maxRS=i\n",
    "print(\"Best accuracy score is \", maxAccu,\"on random_state\",maxRS)"
   ]
  },
  {
   "cell_type": "code",
   "execution_count": 58,
   "id": "2063cc9f",
   "metadata": {},
   "outputs": [
    {
     "name": "stdout",
     "output_type": "stream",
     "text": [
      "0.6645833333333333\n",
      "[[  0   1   2   0   0   0]\n",
      " [  0   0  11   3   0   0]\n",
      " [  0   0 158  45   0   0]\n",
      " [  0   0  50 127  10   0]\n",
      " [  0   0   3  31  34   0]\n",
      " [  0   0   0   4   1   0]]\n",
      "              precision    recall  f1-score   support\n",
      "\n",
      "           3       0.00      0.00      0.00         3\n",
      "           4       0.00      0.00      0.00        14\n",
      "           5       0.71      0.78      0.74       203\n",
      "           6       0.60      0.68      0.64       187\n",
      "           7       0.76      0.50      0.60        68\n",
      "           8       0.00      0.00      0.00         5\n",
      "\n",
      "    accuracy                           0.66       480\n",
      "   macro avg       0.34      0.33      0.33       480\n",
      "weighted avg       0.64      0.66      0.65       480\n",
      "\n"
     ]
    }
   ],
   "source": [
    "RFC = RandomForestClassifier()\n",
    "RFC.fit(x_train,y_train)\n",
    "predRFC=RFC.predict(x_test)\n",
    "print(accuracy_score(y_test,predRFC))\n",
    "print(confusion_matrix(y_test,predRFC))\n",
    "print(classification_report(y_test,predRFC))"
   ]
  },
  {
   "cell_type": "code",
   "execution_count": 59,
   "id": "f25f229d",
   "metadata": {},
   "outputs": [
    {
     "name": "stdout",
     "output_type": "stream",
     "text": [
      "[0.81540342 0.79069767 0.80293758 0.82619339 0.8127295 ]\n",
      "0.8095923125035538\n",
      "Diff b/w accuracy score and cross validation score -0.1450089791702205\n"
     ]
    }
   ],
   "source": [
    "#cross validation score \n",
    "\n",
    "score = cross_val_score(RFC,x1,y1)\n",
    "print(score)\n",
    "print(score.mean())\n",
    "print('Diff b/w accuracy score and cross validation score', accuracy_score(y_test, predRFC)-score.mean())"
   ]
  },
  {
   "cell_type": "code",
   "execution_count": 64,
   "id": "956997e3",
   "metadata": {},
   "outputs": [
    {
     "name": "stdout",
     "output_type": "stream",
     "text": [
      "0.6895833333333333\n",
      "[[  0   1   2   0   0   0]\n",
      " [  0   0  11   3   0   0]\n",
      " [  0   0 167  34   2   0]\n",
      " [  0   0  44 132  11   0]\n",
      " [  0   0   4  32  32   0]\n",
      " [  0   0   0   4   1   0]]\n",
      "              precision    recall  f1-score   support\n",
      "\n",
      "           3       0.00      0.00      0.00         3\n",
      "           4       0.00      0.00      0.00        14\n",
      "           5       0.73      0.82      0.77       203\n",
      "           6       0.64      0.71      0.67       187\n",
      "           7       0.70      0.47      0.56        68\n",
      "           8       0.00      0.00      0.00         5\n",
      "\n",
      "    accuracy                           0.69       480\n",
      "   macro avg       0.35      0.33      0.33       480\n",
      "weighted avg       0.66      0.69      0.67       480\n",
      "\n"
     ]
    }
   ],
   "source": [
    "ET = ExtraTreesClassifier()\n",
    "ET.fit(x_train,y_train)\n",
    "predET=ET.predict(x_test)\n",
    "print(accuracy_score(y_test,predET))\n",
    "print(confusion_matrix(y_test,predET))\n",
    "print(classification_report(y_test,predET))"
   ]
  },
  {
   "cell_type": "code",
   "execution_count": 65,
   "id": "e1d8f375",
   "metadata": {},
   "outputs": [
    {
     "name": "stdout",
     "output_type": "stream",
     "text": [
      "[0.83863081 0.78947368 0.81395349 0.8249694  0.8249694 ]\n",
      "0.8183993559836363\n",
      "Diff b/w accuracy score and cross validation score -0.128816022650303\n"
     ]
    }
   ],
   "source": [
    "score = cross_val_score(ET,x1,y1)\n",
    "print(score)\n",
    "print(score.mean())\n",
    "print('Diff b/w accuracy score and cross validation score', accuracy_score(y_test, predET)-score.mean())"
   ]
  },
  {
   "cell_type": "code",
   "execution_count": 88,
   "id": "567d0377",
   "metadata": {},
   "outputs": [],
   "source": [
    "def falsepositiverates(fpr,tpr):\n",
    "    fpr, tpr, thresholds = metrics.roc_curve(y_test, pred)\n",
    "    roc_auc = metrics.auc(fpr, tpr)\n",
    "    display = metrics.RocCurveDisplay(fpr=fpr, tpr=tpr, roc_auc=roc_auc, estimator_name=Final_model)\n",
    "    display.plot()\n",
    "    \n"
   ]
  },
  {
   "cell_type": "code",
   "execution_count": 87,
   "id": "d3cc496a",
   "metadata": {},
   "outputs": [],
   "source": [
    "from sklearn import metrics"
   ]
  },
  {
   "cell_type": "code",
   "execution_count": 91,
   "id": "7318192c",
   "metadata": {},
   "outputs": [],
   "source": [
    "import pickle\n",
    "filename='Winequality.pkl'\n",
    "pickle.dump(ET,open(filename, 'wb'))"
   ]
  },
  {
   "cell_type": "code",
   "execution_count": 92,
   "id": "c056acd2",
   "metadata": {},
   "outputs": [
    {
     "data": {
      "text/plain": [
       "['Winequality.pkl']"
      ]
     },
     "execution_count": 92,
     "metadata": {},
     "output_type": "execute_result"
    }
   ],
   "source": [
    "import joblib\n",
    "joblib.dump(ET, 'Winequality.pkl')"
   ]
  },
  {
   "cell_type": "code",
   "execution_count": 93,
   "id": "05a93e4e",
   "metadata": {},
   "outputs": [
    {
     "data": {
      "text/plain": [
       "array([6, 6, 5, 6, 6, 5, 5, 5, 7, 6, 5, 6, 6, 5, 7, 6, 5, 5, 5, 6, 6, 6,\n",
       "       6, 6, 7, 6, 6, 6, 6, 5, 7, 6, 5, 6, 6, 5, 5, 6, 5, 6, 6, 5, 6, 5,\n",
       "       5, 5, 5, 6, 5, 7, 5, 6, 6, 6, 6, 6, 5, 6, 6, 6, 6, 6, 5, 5, 6, 5,\n",
       "       5, 5, 5, 5, 5, 5, 5, 6, 6, 5, 7, 6, 6, 6, 6, 7, 5, 5, 7, 5, 5, 6,\n",
       "       5, 6, 6, 6, 7, 5, 5, 5, 7, 7, 6, 6, 5, 5, 5, 6, 5, 5, 5, 5, 5, 6,\n",
       "       5, 6, 5, 7, 5, 5, 5, 6, 6, 6, 5, 6, 5, 4, 7, 6, 5, 5, 5, 5, 6, 6,\n",
       "       5, 6, 6, 5, 5, 6, 7, 5, 6, 5, 6, 6, 6, 5, 6, 6, 6, 6, 5, 7, 5, 5,\n",
       "       5, 5, 5, 5, 5, 6, 6, 5, 5, 5, 6, 5, 5, 5, 6, 7, 6, 6, 5, 7, 6, 5,\n",
       "       6, 6, 5, 5, 5, 6, 5, 6, 5, 7, 7, 5, 6, 5, 5, 6, 5, 6, 5, 5, 7, 5,\n",
       "       6, 7, 5, 6, 6, 5, 7, 5, 5, 6, 6, 5, 5, 5, 5, 6, 5, 5, 6, 5, 5, 6,\n",
       "       5, 6, 7, 5, 5, 6, 6, 6, 5, 6, 5, 6, 5, 6, 7, 5, 6, 6, 6, 5, 6, 5,\n",
       "       6, 6, 6, 5, 5, 5, 7, 6, 5, 5, 5, 6, 5, 5, 5, 6, 6, 6, 5, 6, 5, 5,\n",
       "       5, 6, 6, 6, 6, 5, 5, 5, 6, 6, 6, 7, 5, 7, 6, 5, 5, 5, 5, 5, 5, 6,\n",
       "       6, 6, 5, 6, 5, 5, 5, 6, 5, 5, 6, 6, 6, 5, 5, 6, 6, 7, 6, 6, 7, 5,\n",
       "       5, 5, 5, 6, 5, 5, 5, 6, 7, 6, 5, 5, 5, 5, 6, 6, 6, 6, 5, 5, 5, 5,\n",
       "       5, 5, 7, 5, 6, 6, 5, 6, 6, 5, 7, 6, 5, 6, 5, 5, 6, 5, 6, 6, 5, 6,\n",
       "       6, 7, 5, 5, 6, 7, 5, 6, 6, 5, 5, 6, 6, 5, 5, 6, 5, 7, 7, 6, 6, 6,\n",
       "       5, 6, 5, 5, 6, 5, 5, 5, 5, 5, 5, 5, 5, 6, 5, 5, 6, 7, 5, 7, 5, 6,\n",
       "       6, 5, 5, 5, 6, 5, 6, 6, 5, 5, 5, 6, 6, 6, 6, 5, 5, 6, 5, 7, 5, 6,\n",
       "       7, 6, 5, 6, 5, 6, 6, 5, 5, 6, 6, 6, 6, 6, 5, 6, 5, 6, 5, 5, 7, 7,\n",
       "       5, 6, 5, 6, 5, 6, 6, 6, 6, 6, 5, 6, 6, 5, 5, 6, 7, 5, 6, 5, 5, 6,\n",
       "       5, 6, 7, 6, 7, 6, 6, 5, 5, 7, 6, 6, 5, 5, 6, 6, 5, 6], dtype=int64)"
      ]
     },
     "execution_count": 93,
     "metadata": {},
     "output_type": "execute_result"
    }
   ],
   "source": [
    "ET = joblib.load('Winequality.pkl')\n",
    "\n",
    "prediction = ET.predict(x_test)\n",
    "prediction"
   ]
  },
  {
   "cell_type": "code",
   "execution_count": 94,
   "id": "37e63250",
   "metadata": {},
   "outputs": [
    {
     "data": {
      "text/html": [
       "<div>\n",
       "<style scoped>\n",
       "    .dataframe tbody tr th:only-of-type {\n",
       "        vertical-align: middle;\n",
       "    }\n",
       "\n",
       "    .dataframe tbody tr th {\n",
       "        vertical-align: top;\n",
       "    }\n",
       "\n",
       "    .dataframe thead th {\n",
       "        text-align: right;\n",
       "    }\n",
       "</style>\n",
       "<table border=\"1\" class=\"dataframe\">\n",
       "  <thead>\n",
       "    <tr style=\"text-align: right;\">\n",
       "      <th></th>\n",
       "      <th>Predicted</th>\n",
       "      <th>Original</th>\n",
       "    </tr>\n",
       "  </thead>\n",
       "  <tbody>\n",
       "    <tr>\n",
       "      <th>0</th>\n",
       "      <td>6</td>\n",
       "      <td>5</td>\n",
       "    </tr>\n",
       "    <tr>\n",
       "      <th>1</th>\n",
       "      <td>6</td>\n",
       "      <td>6</td>\n",
       "    </tr>\n",
       "    <tr>\n",
       "      <th>2</th>\n",
       "      <td>5</td>\n",
       "      <td>5</td>\n",
       "    </tr>\n",
       "    <tr>\n",
       "      <th>3</th>\n",
       "      <td>6</td>\n",
       "      <td>6</td>\n",
       "    </tr>\n",
       "    <tr>\n",
       "      <th>4</th>\n",
       "      <td>6</td>\n",
       "      <td>5</td>\n",
       "    </tr>\n",
       "    <tr>\n",
       "      <th>...</th>\n",
       "      <td>...</td>\n",
       "      <td>...</td>\n",
       "    </tr>\n",
       "    <tr>\n",
       "      <th>475</th>\n",
       "      <td>5</td>\n",
       "      <td>5</td>\n",
       "    </tr>\n",
       "    <tr>\n",
       "      <th>476</th>\n",
       "      <td>6</td>\n",
       "      <td>7</td>\n",
       "    </tr>\n",
       "    <tr>\n",
       "      <th>477</th>\n",
       "      <td>6</td>\n",
       "      <td>6</td>\n",
       "    </tr>\n",
       "    <tr>\n",
       "      <th>478</th>\n",
       "      <td>5</td>\n",
       "      <td>5</td>\n",
       "    </tr>\n",
       "    <tr>\n",
       "      <th>479</th>\n",
       "      <td>6</td>\n",
       "      <td>6</td>\n",
       "    </tr>\n",
       "  </tbody>\n",
       "</table>\n",
       "<p>480 rows × 2 columns</p>\n",
       "</div>"
      ],
      "text/plain": [
       "     Predicted  Original\n",
       "0            6         5\n",
       "1            6         6\n",
       "2            5         5\n",
       "3            6         6\n",
       "4            6         5\n",
       "..         ...       ...\n",
       "475          5         5\n",
       "476          6         7\n",
       "477          6         6\n",
       "478          5         5\n",
       "479          6         6\n",
       "\n",
       "[480 rows x 2 columns]"
      ]
     },
     "execution_count": 94,
     "metadata": {},
     "output_type": "execute_result"
    }
   ],
   "source": [
    "a = np.array(y_test)\n",
    "data = pd.DataFrame()\n",
    "data['Predicted']=prediction\n",
    "data['Original']=a\n",
    "data"
   ]
  },
  {
   "cell_type": "markdown",
   "id": "1c12ba8c",
   "metadata": {},
   "source": [
    "So this is the predicted and the original score based on the classification model"
   ]
  },
  {
   "cell_type": "code",
   "execution_count": null,
   "id": "927ce9ee",
   "metadata": {},
   "outputs": [],
   "source": []
  }
 ],
 "metadata": {
  "kernelspec": {
   "display_name": "Python 3 (ipykernel)",
   "language": "python",
   "name": "python3"
  },
  "language_info": {
   "codemirror_mode": {
    "name": "ipython",
    "version": 3
   },
   "file_extension": ".py",
   "mimetype": "text/x-python",
   "name": "python",
   "nbconvert_exporter": "python",
   "pygments_lexer": "ipython3",
   "version": "3.10.9"
  }
 },
 "nbformat": 4,
 "nbformat_minor": 5
}
