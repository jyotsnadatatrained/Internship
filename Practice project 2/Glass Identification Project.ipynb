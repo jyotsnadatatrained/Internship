{
 "cells": [
  {
   "cell_type": "code",
   "execution_count": 4,
   "id": "af805853",
   "metadata": {},
   "outputs": [],
   "source": [
    "import pandas as pd\n",
    "import numpy as np\n",
    "import random as rnd\n",
    "\n",
    "# visualization\n",
    "import seaborn as sns\n",
    "import matplotlib.pyplot as plt\n",
    "from sklearn.metrics import confusion_matrix, classification_report, accuracy_score, roc_curve, roc_auc_score\n",
    "\n",
    "from sklearn.preprocessing import StandardScaler\n",
    "# machine learning\n",
    "from sklearn.linear_model import LogisticRegression\n",
    "from sklearn.svm import SVC, LinearSVC\n",
    "from sklearn.ensemble import RandomForestClassifier, RandomForestRegressor\n",
    "from sklearn.neighbors import KNeighborsClassifier, KNeighborsRegressor\n",
    "from sklearn.naive_bayes import GaussianNB\n",
    "from sklearn.linear_model import Perceptron\n",
    "from sklearn.linear_model import SGDClassifier\n",
    "from sklearn.tree import DecisionTreeClassifier\n",
    "from sklearn.impute import SimpleImputer\n",
    "from sklearn.experimental import enable_iterative_imputer\n",
    "from sklearn.impute import IterativeImputer,KNNImputer\n",
    "from sklearn.pipeline import FeatureUnion,make_pipeline,Pipeline\n",
    "from sklearn.compose import ColumnTransformer\n",
    "import warnings\n",
    "warnings.filterwarnings('ignore')\n"
   ]
  },
  {
   "cell_type": "markdown",
   "id": "d948277a",
   "metadata": {},
   "source": [
    "The World Happiness Report is a landmark survey of the state of global happiness. The first report was published in 2012, the second in 2013, the third in 2015, and the fourth in the 2016 Update. The World Happiness 2017, which ranks 155 countries by their happiness levels, was released at the United Nations at an event celebrating International Day of Happiness on March 20th. The report continues to gain global recognition as governments, organizations and civil society increasingly use happiness indicators to inform their policy-making decisions. Leading experts across fields – economics, psychology, survey analysis, national statistics, health, public policy and more – describe how measurements of well-being can be used effectively to assess the progress of nations. The reports review the state of happiness in the world today and show how the new science of happiness explains personal and national variations in happiness."
   ]
  },
  {
   "cell_type": "code",
   "execution_count": 5,
   "id": "11efd28e",
   "metadata": {},
   "outputs": [
    {
     "data": {
      "text/html": [
       "<div>\n",
       "<style scoped>\n",
       "    .dataframe tbody tr th:only-of-type {\n",
       "        vertical-align: middle;\n",
       "    }\n",
       "\n",
       "    .dataframe tbody tr th {\n",
       "        vertical-align: top;\n",
       "    }\n",
       "\n",
       "    .dataframe thead th {\n",
       "        text-align: right;\n",
       "    }\n",
       "</style>\n",
       "<table border=\"1\" class=\"dataframe\">\n",
       "  <thead>\n",
       "    <tr style=\"text-align: right;\">\n",
       "      <th></th>\n",
       "      <th>1</th>\n",
       "      <th>1.52101</th>\n",
       "      <th>13.64</th>\n",
       "      <th>4.49</th>\n",
       "      <th>1.10</th>\n",
       "      <th>71.78</th>\n",
       "      <th>0.06</th>\n",
       "      <th>8.75</th>\n",
       "      <th>0.00</th>\n",
       "      <th>0.00.1</th>\n",
       "      <th>1.1</th>\n",
       "    </tr>\n",
       "  </thead>\n",
       "  <tbody>\n",
       "    <tr>\n",
       "      <th>0</th>\n",
       "      <td>2</td>\n",
       "      <td>1.51761</td>\n",
       "      <td>13.89</td>\n",
       "      <td>3.60</td>\n",
       "      <td>1.36</td>\n",
       "      <td>72.73</td>\n",
       "      <td>0.48</td>\n",
       "      <td>7.83</td>\n",
       "      <td>0.0</td>\n",
       "      <td>0.00</td>\n",
       "      <td>1</td>\n",
       "    </tr>\n",
       "    <tr>\n",
       "      <th>1</th>\n",
       "      <td>3</td>\n",
       "      <td>1.51618</td>\n",
       "      <td>13.53</td>\n",
       "      <td>3.55</td>\n",
       "      <td>1.54</td>\n",
       "      <td>72.99</td>\n",
       "      <td>0.39</td>\n",
       "      <td>7.78</td>\n",
       "      <td>0.0</td>\n",
       "      <td>0.00</td>\n",
       "      <td>1</td>\n",
       "    </tr>\n",
       "    <tr>\n",
       "      <th>2</th>\n",
       "      <td>4</td>\n",
       "      <td>1.51766</td>\n",
       "      <td>13.21</td>\n",
       "      <td>3.69</td>\n",
       "      <td>1.29</td>\n",
       "      <td>72.61</td>\n",
       "      <td>0.57</td>\n",
       "      <td>8.22</td>\n",
       "      <td>0.0</td>\n",
       "      <td>0.00</td>\n",
       "      <td>1</td>\n",
       "    </tr>\n",
       "    <tr>\n",
       "      <th>3</th>\n",
       "      <td>5</td>\n",
       "      <td>1.51742</td>\n",
       "      <td>13.27</td>\n",
       "      <td>3.62</td>\n",
       "      <td>1.24</td>\n",
       "      <td>73.08</td>\n",
       "      <td>0.55</td>\n",
       "      <td>8.07</td>\n",
       "      <td>0.0</td>\n",
       "      <td>0.00</td>\n",
       "      <td>1</td>\n",
       "    </tr>\n",
       "    <tr>\n",
       "      <th>4</th>\n",
       "      <td>6</td>\n",
       "      <td>1.51596</td>\n",
       "      <td>12.79</td>\n",
       "      <td>3.61</td>\n",
       "      <td>1.62</td>\n",
       "      <td>72.97</td>\n",
       "      <td>0.64</td>\n",
       "      <td>8.07</td>\n",
       "      <td>0.0</td>\n",
       "      <td>0.26</td>\n",
       "      <td>1</td>\n",
       "    </tr>\n",
       "  </tbody>\n",
       "</table>\n",
       "</div>"
      ],
      "text/plain": [
       "   1  1.52101  13.64  4.49  1.10  71.78  0.06  8.75  0.00  0.00.1  1.1\n",
       "0  2  1.51761  13.89  3.60  1.36  72.73  0.48  7.83   0.0    0.00    1\n",
       "1  3  1.51618  13.53  3.55  1.54  72.99  0.39  7.78   0.0    0.00    1\n",
       "2  4  1.51766  13.21  3.69  1.29  72.61  0.57  8.22   0.0    0.00    1\n",
       "3  5  1.51742  13.27  3.62  1.24  73.08  0.55  8.07   0.0    0.00    1\n",
       "4  6  1.51596  12.79  3.61  1.62  72.97  0.64  8.07   0.0    0.26    1"
      ]
     },
     "execution_count": 5,
     "metadata": {},
     "output_type": "execute_result"
    }
   ],
   "source": [
    "data = pd.read_csv(r'https://raw.githubusercontent.com/dsrscientist/dataset3/main/glass.csv')\n",
    "data.head()"
   ]
  },
  {
   "cell_type": "code",
   "execution_count": 3,
   "id": "5f9bc9e4",
   "metadata": {},
   "outputs": [
    {
     "data": {
      "text/plain": [
       "(213, 11)"
      ]
     },
     "execution_count": 3,
     "metadata": {},
     "output_type": "execute_result"
    }
   ],
   "source": [
    "data.shape"
   ]
  },
  {
   "cell_type": "code",
   "execution_count": 4,
   "id": "4add992e",
   "metadata": {},
   "outputs": [
    {
     "data": {
      "text/plain": [
       "1          0\n",
       "1.52101    0\n",
       "13.64      0\n",
       "4.49       0\n",
       "1.10       0\n",
       "71.78      0\n",
       "0.06       0\n",
       "8.75       0\n",
       "0.00       0\n",
       "0.00.1     0\n",
       "1.1        0\n",
       "dtype: int64"
      ]
     },
     "execution_count": 4,
     "metadata": {},
     "output_type": "execute_result"
    }
   ],
   "source": [
    "data.isna().sum() # there are no null values "
   ]
  },
  {
   "cell_type": "code",
   "execution_count": 5,
   "id": "141515a7",
   "metadata": {},
   "outputs": [
    {
     "name": "stdout",
     "output_type": "stream",
     "text": [
      "<class 'pandas.core.frame.DataFrame'>\n",
      "RangeIndex: 213 entries, 0 to 212\n",
      "Data columns (total 11 columns):\n",
      " #   Column   Non-Null Count  Dtype  \n",
      "---  ------   --------------  -----  \n",
      " 0   1        213 non-null    int64  \n",
      " 1   1.52101  213 non-null    float64\n",
      " 2   13.64    213 non-null    float64\n",
      " 3   4.49     213 non-null    float64\n",
      " 4   1.10     213 non-null    float64\n",
      " 5   71.78    213 non-null    float64\n",
      " 6   0.06     213 non-null    float64\n",
      " 7   8.75     213 non-null    float64\n",
      " 8   0.00     213 non-null    float64\n",
      " 9   0.00.1   213 non-null    float64\n",
      " 10  1.1      213 non-null    int64  \n",
      "dtypes: float64(9), int64(2)\n",
      "memory usage: 18.4 KB\n"
     ]
    }
   ],
   "source": [
    "data.info()"
   ]
  },
  {
   "cell_type": "code",
   "execution_count": 30,
   "id": "b3727200",
   "metadata": {},
   "outputs": [],
   "source": [
    "df1 = data.rename(columns={'1': 'ID', '1.52101': 'RI', '13.64': 'Na', '4.49': 'Mg', '1.10': 'Al', '71.78': 'Si', '0.06': 'K', '8.75': 'Ca', '0.00': 'Ba', '0.00.1': 'Fe', '1.1': 'Glass' })\n"
   ]
  },
  {
   "cell_type": "code",
   "execution_count": 31,
   "id": "f1c2d77f",
   "metadata": {},
   "outputs": [
    {
     "data": {
      "text/html": [
       "<div>\n",
       "<style scoped>\n",
       "    .dataframe tbody tr th:only-of-type {\n",
       "        vertical-align: middle;\n",
       "    }\n",
       "\n",
       "    .dataframe tbody tr th {\n",
       "        vertical-align: top;\n",
       "    }\n",
       "\n",
       "    .dataframe thead th {\n",
       "        text-align: right;\n",
       "    }\n",
       "</style>\n",
       "<table border=\"1\" class=\"dataframe\">\n",
       "  <thead>\n",
       "    <tr style=\"text-align: right;\">\n",
       "      <th></th>\n",
       "      <th>ID</th>\n",
       "      <th>RI</th>\n",
       "      <th>Na</th>\n",
       "      <th>Mg</th>\n",
       "      <th>Al</th>\n",
       "      <th>Si</th>\n",
       "      <th>K</th>\n",
       "      <th>Ca</th>\n",
       "      <th>Ba</th>\n",
       "      <th>Fe</th>\n",
       "      <th>Glass</th>\n",
       "    </tr>\n",
       "  </thead>\n",
       "  <tbody>\n",
       "    <tr>\n",
       "      <th>0</th>\n",
       "      <td>2</td>\n",
       "      <td>1.51761</td>\n",
       "      <td>13.89</td>\n",
       "      <td>3.60</td>\n",
       "      <td>1.36</td>\n",
       "      <td>72.73</td>\n",
       "      <td>0.48</td>\n",
       "      <td>7.83</td>\n",
       "      <td>0.00</td>\n",
       "      <td>0.00</td>\n",
       "      <td>1</td>\n",
       "    </tr>\n",
       "    <tr>\n",
       "      <th>1</th>\n",
       "      <td>3</td>\n",
       "      <td>1.51618</td>\n",
       "      <td>13.53</td>\n",
       "      <td>3.55</td>\n",
       "      <td>1.54</td>\n",
       "      <td>72.99</td>\n",
       "      <td>0.39</td>\n",
       "      <td>7.78</td>\n",
       "      <td>0.00</td>\n",
       "      <td>0.00</td>\n",
       "      <td>1</td>\n",
       "    </tr>\n",
       "    <tr>\n",
       "      <th>2</th>\n",
       "      <td>4</td>\n",
       "      <td>1.51766</td>\n",
       "      <td>13.21</td>\n",
       "      <td>3.69</td>\n",
       "      <td>1.29</td>\n",
       "      <td>72.61</td>\n",
       "      <td>0.57</td>\n",
       "      <td>8.22</td>\n",
       "      <td>0.00</td>\n",
       "      <td>0.00</td>\n",
       "      <td>1</td>\n",
       "    </tr>\n",
       "    <tr>\n",
       "      <th>3</th>\n",
       "      <td>5</td>\n",
       "      <td>1.51742</td>\n",
       "      <td>13.27</td>\n",
       "      <td>3.62</td>\n",
       "      <td>1.24</td>\n",
       "      <td>73.08</td>\n",
       "      <td>0.55</td>\n",
       "      <td>8.07</td>\n",
       "      <td>0.00</td>\n",
       "      <td>0.00</td>\n",
       "      <td>1</td>\n",
       "    </tr>\n",
       "    <tr>\n",
       "      <th>4</th>\n",
       "      <td>6</td>\n",
       "      <td>1.51596</td>\n",
       "      <td>12.79</td>\n",
       "      <td>3.61</td>\n",
       "      <td>1.62</td>\n",
       "      <td>72.97</td>\n",
       "      <td>0.64</td>\n",
       "      <td>8.07</td>\n",
       "      <td>0.00</td>\n",
       "      <td>0.26</td>\n",
       "      <td>1</td>\n",
       "    </tr>\n",
       "    <tr>\n",
       "      <th>...</th>\n",
       "      <td>...</td>\n",
       "      <td>...</td>\n",
       "      <td>...</td>\n",
       "      <td>...</td>\n",
       "      <td>...</td>\n",
       "      <td>...</td>\n",
       "      <td>...</td>\n",
       "      <td>...</td>\n",
       "      <td>...</td>\n",
       "      <td>...</td>\n",
       "      <td>...</td>\n",
       "    </tr>\n",
       "    <tr>\n",
       "      <th>208</th>\n",
       "      <td>210</td>\n",
       "      <td>1.51623</td>\n",
       "      <td>14.14</td>\n",
       "      <td>0.00</td>\n",
       "      <td>2.88</td>\n",
       "      <td>72.61</td>\n",
       "      <td>0.08</td>\n",
       "      <td>9.18</td>\n",
       "      <td>1.06</td>\n",
       "      <td>0.00</td>\n",
       "      <td>7</td>\n",
       "    </tr>\n",
       "    <tr>\n",
       "      <th>209</th>\n",
       "      <td>211</td>\n",
       "      <td>1.51685</td>\n",
       "      <td>14.92</td>\n",
       "      <td>0.00</td>\n",
       "      <td>1.99</td>\n",
       "      <td>73.06</td>\n",
       "      <td>0.00</td>\n",
       "      <td>8.40</td>\n",
       "      <td>1.59</td>\n",
       "      <td>0.00</td>\n",
       "      <td>7</td>\n",
       "    </tr>\n",
       "    <tr>\n",
       "      <th>210</th>\n",
       "      <td>212</td>\n",
       "      <td>1.52065</td>\n",
       "      <td>14.36</td>\n",
       "      <td>0.00</td>\n",
       "      <td>2.02</td>\n",
       "      <td>73.42</td>\n",
       "      <td>0.00</td>\n",
       "      <td>8.44</td>\n",
       "      <td>1.64</td>\n",
       "      <td>0.00</td>\n",
       "      <td>7</td>\n",
       "    </tr>\n",
       "    <tr>\n",
       "      <th>211</th>\n",
       "      <td>213</td>\n",
       "      <td>1.51651</td>\n",
       "      <td>14.38</td>\n",
       "      <td>0.00</td>\n",
       "      <td>1.94</td>\n",
       "      <td>73.61</td>\n",
       "      <td>0.00</td>\n",
       "      <td>8.48</td>\n",
       "      <td>1.57</td>\n",
       "      <td>0.00</td>\n",
       "      <td>7</td>\n",
       "    </tr>\n",
       "    <tr>\n",
       "      <th>212</th>\n",
       "      <td>214</td>\n",
       "      <td>1.51711</td>\n",
       "      <td>14.23</td>\n",
       "      <td>0.00</td>\n",
       "      <td>2.08</td>\n",
       "      <td>73.36</td>\n",
       "      <td>0.00</td>\n",
       "      <td>8.62</td>\n",
       "      <td>1.67</td>\n",
       "      <td>0.00</td>\n",
       "      <td>7</td>\n",
       "    </tr>\n",
       "  </tbody>\n",
       "</table>\n",
       "<p>213 rows × 11 columns</p>\n",
       "</div>"
      ],
      "text/plain": [
       "      ID       RI     Na    Mg    Al     Si     K    Ca    Ba    Fe  Glass\n",
       "0      2  1.51761  13.89  3.60  1.36  72.73  0.48  7.83  0.00  0.00      1\n",
       "1      3  1.51618  13.53  3.55  1.54  72.99  0.39  7.78  0.00  0.00      1\n",
       "2      4  1.51766  13.21  3.69  1.29  72.61  0.57  8.22  0.00  0.00      1\n",
       "3      5  1.51742  13.27  3.62  1.24  73.08  0.55  8.07  0.00  0.00      1\n",
       "4      6  1.51596  12.79  3.61  1.62  72.97  0.64  8.07  0.00  0.26      1\n",
       "..   ...      ...    ...   ...   ...    ...   ...   ...   ...   ...    ...\n",
       "208  210  1.51623  14.14  0.00  2.88  72.61  0.08  9.18  1.06  0.00      7\n",
       "209  211  1.51685  14.92  0.00  1.99  73.06  0.00  8.40  1.59  0.00      7\n",
       "210  212  1.52065  14.36  0.00  2.02  73.42  0.00  8.44  1.64  0.00      7\n",
       "211  213  1.51651  14.38  0.00  1.94  73.61  0.00  8.48  1.57  0.00      7\n",
       "212  214  1.51711  14.23  0.00  2.08  73.36  0.00  8.62  1.67  0.00      7\n",
       "\n",
       "[213 rows x 11 columns]"
      ]
     },
     "execution_count": 31,
     "metadata": {},
     "output_type": "execute_result"
    }
   ],
   "source": [
    "df1"
   ]
  },
  {
   "cell_type": "code",
   "execution_count": 32,
   "id": "f9747efc",
   "metadata": {},
   "outputs": [],
   "source": [
    "df1.drop(['ID'],axis=1,inplace=True)"
   ]
  },
  {
   "cell_type": "code",
   "execution_count": 33,
   "id": "b1fad478",
   "metadata": {},
   "outputs": [
    {
     "data": {
      "text/html": [
       "<div>\n",
       "<style scoped>\n",
       "    .dataframe tbody tr th:only-of-type {\n",
       "        vertical-align: middle;\n",
       "    }\n",
       "\n",
       "    .dataframe tbody tr th {\n",
       "        vertical-align: top;\n",
       "    }\n",
       "\n",
       "    .dataframe thead th {\n",
       "        text-align: right;\n",
       "    }\n",
       "</style>\n",
       "<table border=\"1\" class=\"dataframe\">\n",
       "  <thead>\n",
       "    <tr style=\"text-align: right;\">\n",
       "      <th></th>\n",
       "      <th>RI</th>\n",
       "      <th>Na</th>\n",
       "      <th>Mg</th>\n",
       "      <th>Al</th>\n",
       "      <th>Si</th>\n",
       "      <th>K</th>\n",
       "      <th>Ca</th>\n",
       "      <th>Ba</th>\n",
       "      <th>Fe</th>\n",
       "      <th>Glass</th>\n",
       "    </tr>\n",
       "  </thead>\n",
       "  <tbody>\n",
       "    <tr>\n",
       "      <th>count</th>\n",
       "      <td>213.000000</td>\n",
       "      <td>213.000000</td>\n",
       "      <td>213.000000</td>\n",
       "      <td>213.000000</td>\n",
       "      <td>213.000000</td>\n",
       "      <td>213.000000</td>\n",
       "      <td>213.000000</td>\n",
       "      <td>213.000000</td>\n",
       "      <td>213.000000</td>\n",
       "      <td>213.000000</td>\n",
       "    </tr>\n",
       "    <tr>\n",
       "      <th>mean</th>\n",
       "      <td>1.518353</td>\n",
       "      <td>13.406761</td>\n",
       "      <td>2.676056</td>\n",
       "      <td>1.446526</td>\n",
       "      <td>72.655023</td>\n",
       "      <td>0.499108</td>\n",
       "      <td>8.957934</td>\n",
       "      <td>0.175869</td>\n",
       "      <td>0.057277</td>\n",
       "      <td>2.788732</td>\n",
       "    </tr>\n",
       "    <tr>\n",
       "      <th>std</th>\n",
       "      <td>0.003039</td>\n",
       "      <td>0.818371</td>\n",
       "      <td>1.440453</td>\n",
       "      <td>0.499882</td>\n",
       "      <td>0.774052</td>\n",
       "      <td>0.653035</td>\n",
       "      <td>1.426435</td>\n",
       "      <td>0.498245</td>\n",
       "      <td>0.097589</td>\n",
       "      <td>2.105130</td>\n",
       "    </tr>\n",
       "    <tr>\n",
       "      <th>min</th>\n",
       "      <td>1.511150</td>\n",
       "      <td>10.730000</td>\n",
       "      <td>0.000000</td>\n",
       "      <td>0.290000</td>\n",
       "      <td>69.810000</td>\n",
       "      <td>0.000000</td>\n",
       "      <td>5.430000</td>\n",
       "      <td>0.000000</td>\n",
       "      <td>0.000000</td>\n",
       "      <td>1.000000</td>\n",
       "    </tr>\n",
       "    <tr>\n",
       "      <th>25%</th>\n",
       "      <td>1.516520</td>\n",
       "      <td>12.900000</td>\n",
       "      <td>2.090000</td>\n",
       "      <td>1.190000</td>\n",
       "      <td>72.280000</td>\n",
       "      <td>0.130000</td>\n",
       "      <td>8.240000</td>\n",
       "      <td>0.000000</td>\n",
       "      <td>0.000000</td>\n",
       "      <td>1.000000</td>\n",
       "    </tr>\n",
       "    <tr>\n",
       "      <th>50%</th>\n",
       "      <td>1.517680</td>\n",
       "      <td>13.300000</td>\n",
       "      <td>3.480000</td>\n",
       "      <td>1.360000</td>\n",
       "      <td>72.790000</td>\n",
       "      <td>0.560000</td>\n",
       "      <td>8.600000</td>\n",
       "      <td>0.000000</td>\n",
       "      <td>0.000000</td>\n",
       "      <td>2.000000</td>\n",
       "    </tr>\n",
       "    <tr>\n",
       "      <th>75%</th>\n",
       "      <td>1.519150</td>\n",
       "      <td>13.830000</td>\n",
       "      <td>3.600000</td>\n",
       "      <td>1.630000</td>\n",
       "      <td>73.090000</td>\n",
       "      <td>0.610000</td>\n",
       "      <td>9.180000</td>\n",
       "      <td>0.000000</td>\n",
       "      <td>0.100000</td>\n",
       "      <td>3.000000</td>\n",
       "    </tr>\n",
       "    <tr>\n",
       "      <th>max</th>\n",
       "      <td>1.533930</td>\n",
       "      <td>17.380000</td>\n",
       "      <td>3.980000</td>\n",
       "      <td>3.500000</td>\n",
       "      <td>75.410000</td>\n",
       "      <td>6.210000</td>\n",
       "      <td>16.190000</td>\n",
       "      <td>3.150000</td>\n",
       "      <td>0.510000</td>\n",
       "      <td>7.000000</td>\n",
       "    </tr>\n",
       "  </tbody>\n",
       "</table>\n",
       "</div>"
      ],
      "text/plain": [
       "               RI          Na          Mg          Al          Si           K  \\\n",
       "count  213.000000  213.000000  213.000000  213.000000  213.000000  213.000000   \n",
       "mean     1.518353   13.406761    2.676056    1.446526   72.655023    0.499108   \n",
       "std      0.003039    0.818371    1.440453    0.499882    0.774052    0.653035   \n",
       "min      1.511150   10.730000    0.000000    0.290000   69.810000    0.000000   \n",
       "25%      1.516520   12.900000    2.090000    1.190000   72.280000    0.130000   \n",
       "50%      1.517680   13.300000    3.480000    1.360000   72.790000    0.560000   \n",
       "75%      1.519150   13.830000    3.600000    1.630000   73.090000    0.610000   \n",
       "max      1.533930   17.380000    3.980000    3.500000   75.410000    6.210000   \n",
       "\n",
       "               Ca          Ba          Fe       Glass  \n",
       "count  213.000000  213.000000  213.000000  213.000000  \n",
       "mean     8.957934    0.175869    0.057277    2.788732  \n",
       "std      1.426435    0.498245    0.097589    2.105130  \n",
       "min      5.430000    0.000000    0.000000    1.000000  \n",
       "25%      8.240000    0.000000    0.000000    1.000000  \n",
       "50%      8.600000    0.000000    0.000000    2.000000  \n",
       "75%      9.180000    0.000000    0.100000    3.000000  \n",
       "max     16.190000    3.150000    0.510000    7.000000  "
      ]
     },
     "execution_count": 33,
     "metadata": {},
     "output_type": "execute_result"
    }
   ],
   "source": [
    "df1.describe()"
   ]
  },
  {
   "cell_type": "code",
   "execution_count": 34,
   "id": "3a2ebb21",
   "metadata": {},
   "outputs": [
    {
     "data": {
      "text/html": [
       "<div>\n",
       "<style scoped>\n",
       "    .dataframe tbody tr th:only-of-type {\n",
       "        vertical-align: middle;\n",
       "    }\n",
       "\n",
       "    .dataframe tbody tr th {\n",
       "        vertical-align: top;\n",
       "    }\n",
       "\n",
       "    .dataframe thead th {\n",
       "        text-align: right;\n",
       "    }\n",
       "</style>\n",
       "<table border=\"1\" class=\"dataframe\">\n",
       "  <thead>\n",
       "    <tr style=\"text-align: right;\">\n",
       "      <th></th>\n",
       "      <th>RI</th>\n",
       "      <th>Na</th>\n",
       "      <th>Mg</th>\n",
       "      <th>Al</th>\n",
       "      <th>Si</th>\n",
       "      <th>K</th>\n",
       "      <th>Ca</th>\n",
       "      <th>Ba</th>\n",
       "      <th>Fe</th>\n",
       "      <th>Glass</th>\n",
       "    </tr>\n",
       "  </thead>\n",
       "  <tbody>\n",
       "    <tr>\n",
       "      <th>RI</th>\n",
       "      <td>1.000000</td>\n",
       "      <td>-0.193436</td>\n",
       "      <td>-0.128118</td>\n",
       "      <td>-0.405671</td>\n",
       "      <td>-0.540010</td>\n",
       "      <td>-0.287900</td>\n",
       "      <td>0.812495</td>\n",
       "      <td>0.001062</td>\n",
       "      <td>0.145791</td>\n",
       "      <td>-0.161322</td>\n",
       "    </tr>\n",
       "    <tr>\n",
       "      <th>Na</th>\n",
       "      <td>-0.193436</td>\n",
       "      <td>1.000000</td>\n",
       "      <td>-0.276486</td>\n",
       "      <td>0.157928</td>\n",
       "      <td>-0.068519</td>\n",
       "      <td>-0.265520</td>\n",
       "      <td>-0.275314</td>\n",
       "      <td>0.327233</td>\n",
       "      <td>-0.240802</td>\n",
       "      <td>0.504983</td>\n",
       "    </tr>\n",
       "    <tr>\n",
       "      <th>Mg</th>\n",
       "      <td>-0.128118</td>\n",
       "      <td>-0.276486</td>\n",
       "      <td>1.000000</td>\n",
       "      <td>-0.480035</td>\n",
       "      <td>-0.160359</td>\n",
       "      <td>0.009397</td>\n",
       "      <td>-0.444559</td>\n",
       "      <td>-0.492149</td>\n",
       "      <td>0.086906</td>\n",
       "      <td>-0.744004</td>\n",
       "    </tr>\n",
       "    <tr>\n",
       "      <th>Al</th>\n",
       "      <td>-0.405671</td>\n",
       "      <td>0.157928</td>\n",
       "      <td>-0.480035</td>\n",
       "      <td>1.000000</td>\n",
       "      <td>-0.009226</td>\n",
       "      <td>0.324484</td>\n",
       "      <td>-0.260372</td>\n",
       "      <td>0.478936</td>\n",
       "      <td>-0.076456</td>\n",
       "      <td>0.597754</td>\n",
       "    </tr>\n",
       "    <tr>\n",
       "      <th>Si</th>\n",
       "      <td>-0.540010</td>\n",
       "      <td>-0.068519</td>\n",
       "      <td>-0.160359</td>\n",
       "      <td>-0.009226</td>\n",
       "      <td>1.000000</td>\n",
       "      <td>-0.197684</td>\n",
       "      <td>-0.210141</td>\n",
       "      <td>-0.104361</td>\n",
       "      <td>-0.097674</td>\n",
       "      <td>0.147767</td>\n",
       "    </tr>\n",
       "    <tr>\n",
       "      <th>K</th>\n",
       "      <td>-0.287900</td>\n",
       "      <td>-0.265520</td>\n",
       "      <td>0.009397</td>\n",
       "      <td>0.324484</td>\n",
       "      <td>-0.197684</td>\n",
       "      <td>1.000000</td>\n",
       "      <td>-0.318649</td>\n",
       "      <td>-0.043790</td>\n",
       "      <td>-0.009586</td>\n",
       "      <td>-0.012765</td>\n",
       "    </tr>\n",
       "    <tr>\n",
       "      <th>Ca</th>\n",
       "      <td>0.812495</td>\n",
       "      <td>-0.275314</td>\n",
       "      <td>-0.444559</td>\n",
       "      <td>-0.260372</td>\n",
       "      <td>-0.210141</td>\n",
       "      <td>-0.318649</td>\n",
       "      <td>1.000000</td>\n",
       "      <td>-0.113121</td>\n",
       "      <td>0.124674</td>\n",
       "      <td>0.000372</td>\n",
       "    </tr>\n",
       "    <tr>\n",
       "      <th>Ba</th>\n",
       "      <td>0.001062</td>\n",
       "      <td>0.327233</td>\n",
       "      <td>-0.492149</td>\n",
       "      <td>0.478936</td>\n",
       "      <td>-0.104361</td>\n",
       "      <td>-0.043790</td>\n",
       "      <td>-0.113121</td>\n",
       "      <td>1.000000</td>\n",
       "      <td>-0.059729</td>\n",
       "      <td>0.574896</td>\n",
       "    </tr>\n",
       "    <tr>\n",
       "      <th>Fe</th>\n",
       "      <td>0.145791</td>\n",
       "      <td>-0.240802</td>\n",
       "      <td>0.086906</td>\n",
       "      <td>-0.076456</td>\n",
       "      <td>-0.097674</td>\n",
       "      <td>-0.009586</td>\n",
       "      <td>0.124674</td>\n",
       "      <td>-0.059729</td>\n",
       "      <td>1.000000</td>\n",
       "      <td>-0.191090</td>\n",
       "    </tr>\n",
       "    <tr>\n",
       "      <th>Glass</th>\n",
       "      <td>-0.161322</td>\n",
       "      <td>0.504983</td>\n",
       "      <td>-0.744004</td>\n",
       "      <td>0.597754</td>\n",
       "      <td>0.147767</td>\n",
       "      <td>-0.012765</td>\n",
       "      <td>0.000372</td>\n",
       "      <td>0.574896</td>\n",
       "      <td>-0.191090</td>\n",
       "      <td>1.000000</td>\n",
       "    </tr>\n",
       "  </tbody>\n",
       "</table>\n",
       "</div>"
      ],
      "text/plain": [
       "             RI        Na        Mg        Al        Si         K        Ca  \\\n",
       "RI     1.000000 -0.193436 -0.128118 -0.405671 -0.540010 -0.287900  0.812495   \n",
       "Na    -0.193436  1.000000 -0.276486  0.157928 -0.068519 -0.265520 -0.275314   \n",
       "Mg    -0.128118 -0.276486  1.000000 -0.480035 -0.160359  0.009397 -0.444559   \n",
       "Al    -0.405671  0.157928 -0.480035  1.000000 -0.009226  0.324484 -0.260372   \n",
       "Si    -0.540010 -0.068519 -0.160359 -0.009226  1.000000 -0.197684 -0.210141   \n",
       "K     -0.287900 -0.265520  0.009397  0.324484 -0.197684  1.000000 -0.318649   \n",
       "Ca     0.812495 -0.275314 -0.444559 -0.260372 -0.210141 -0.318649  1.000000   \n",
       "Ba     0.001062  0.327233 -0.492149  0.478936 -0.104361 -0.043790 -0.113121   \n",
       "Fe     0.145791 -0.240802  0.086906 -0.076456 -0.097674 -0.009586  0.124674   \n",
       "Glass -0.161322  0.504983 -0.744004  0.597754  0.147767 -0.012765  0.000372   \n",
       "\n",
       "             Ba        Fe     Glass  \n",
       "RI     0.001062  0.145791 -0.161322  \n",
       "Na     0.327233 -0.240802  0.504983  \n",
       "Mg    -0.492149  0.086906 -0.744004  \n",
       "Al     0.478936 -0.076456  0.597754  \n",
       "Si    -0.104361 -0.097674  0.147767  \n",
       "K     -0.043790 -0.009586 -0.012765  \n",
       "Ca    -0.113121  0.124674  0.000372  \n",
       "Ba     1.000000 -0.059729  0.574896  \n",
       "Fe    -0.059729  1.000000 -0.191090  \n",
       "Glass  0.574896 -0.191090  1.000000  "
      ]
     },
     "execution_count": 34,
     "metadata": {},
     "output_type": "execute_result"
    }
   ],
   "source": [
    "cor = df1.corr()\n",
    "cor"
   ]
  },
  {
   "cell_type": "code",
   "execution_count": 35,
   "id": "bca97d80",
   "metadata": {},
   "outputs": [
    {
     "data": {
      "image/png": "[encoded data removed]",
      "text/plain": [
       "<Figure size 1500x800 with 2 Axes>"
      ]
     },
     "metadata": {},
     "output_type": "display_data"
    }
   ],
   "source": [
    "plt.figure(figsize=(15,8), facecolor='blue')\n",
    "sns.heatmap(df1.corr(), linewidths = 0.1, fmt = '.1g', linecolor = 'black', annot = True, cmap = 'Blues_r')\n",
    "plt.yticks(rotation = 0);\n",
    "plt.show()"
   ]
  },
  {
   "cell_type": "markdown",
   "id": "793dbf95",
   "metadata": {},
   "source": [
    "from the above heatmap we can observe that there is no multicollinearity issue observed so we will not drop the column"
   ]
  },
  {
   "cell_type": "code",
   "execution_count": 36,
   "id": "3c6388fe",
   "metadata": {},
   "outputs": [
    {
     "data": {
      "image/png": "[encoded data removed]",
      "text/plain": [
       "<Figure size 640x480 with 1 Axes>"
      ]
     },
     "metadata": {},
     "output_type": "display_data"
    }
   ],
   "source": [
    "sns.countplot(x='Glass',data=df1)\n",
    "plt.show()"
   ]
  },
  {
   "cell_type": "code",
   "execution_count": 37,
   "id": "ceb89e9f",
   "metadata": {},
   "outputs": [
    {
     "data": {
      "image/png": "[encoded data removed]",
      "text/plain": [
       "<Figure size 1500x800 with 10 Axes>"
      ]
     },
     "metadata": {},
     "output_type": "display_data"
    }
   ],
   "source": [
    "plt.figure(figsize=(15,8), facecolor='red')\n",
    "plotnumber = 1\n",
    "\n",
    "for column in df1:\n",
    "    if plotnumber<=12:\n",
    "        ax = plt.subplot(2,5,plotnumber)\n",
    "        sns.boxplot(df1[column])\n",
    "        plt.xlabel(column)\n",
    "        \n",
    "        \n",
    "    plotnumber+=1\n",
    "plt.show()"
   ]
  },
  {
   "cell_type": "markdown",
   "id": "d017778b",
   "metadata": {},
   "source": [
    "There is outliers detected"
   ]
  },
  {
   "cell_type": "code",
   "execution_count": 38,
   "id": "8976169d",
   "metadata": {},
   "outputs": [
    {
     "data": {
      "text/plain": [
       "RI       1.639658\n",
       "Na       0.457318\n",
       "Mg      -1.154323\n",
       "Al       0.900017\n",
       "Si      -0.744546\n",
       "K        6.549276\n",
       "Ca       2.040591\n",
       "Ba       3.406749\n",
       "Fe       1.747173\n",
       "Glass    1.108861\n",
       "dtype: float64"
      ]
     },
     "execution_count": 38,
     "metadata": {},
     "output_type": "execute_result"
    }
   ],
   "source": [
    "df1.skew() #checking the skewness "
   ]
  },
  {
   "cell_type": "code",
   "execution_count": 39,
   "id": "1d8881da",
   "metadata": {},
   "outputs": [],
   "source": [
    "df1['K']=np.cbrt(df1['K'])\n",
    "df1['Ca']=np.cbrt(df1['Ca'])\n",
    "df1['Ba']=np.cbrt(df1['Ba']) # we have removed the skewed data\n"
   ]
  },
  {
   "cell_type": "code",
   "execution_count": 40,
   "id": "09631a73",
   "metadata": {},
   "outputs": [
    {
     "data": {
      "text/plain": [
       "RI       1.639658\n",
       "Na       0.457318\n",
       "Mg      -1.154323\n",
       "Al       0.900017\n",
       "Si      -0.744546\n",
       "K       -0.602542\n",
       "Ca       1.402709\n",
       "Ba       2.065220\n",
       "Fe       1.747173\n",
       "Glass    1.108861\n",
       "dtype: float64"
      ]
     },
     "execution_count": 40,
     "metadata": {},
     "output_type": "execute_result"
    }
   ],
   "source": [
    "df1.skew()"
   ]
  },
  {
   "cell_type": "code",
   "execution_count": 42,
   "id": "810c202c",
   "metadata": {},
   "outputs": [],
   "source": [
    "x = df1.drop('Glass', axis=1)\n",
    "y = df1.Glass"
   ]
  },
  {
   "cell_type": "code",
   "execution_count": 43,
   "id": "2c8ca9c2",
   "metadata": {},
   "outputs": [
    {
     "data": {
      "text/html": [
       "<div>\n",
       "<style scoped>\n",
       "    .dataframe tbody tr th:only-of-type {\n",
       "        vertical-align: middle;\n",
       "    }\n",
       "\n",
       "    .dataframe tbody tr th {\n",
       "        vertical-align: top;\n",
       "    }\n",
       "\n",
       "    .dataframe thead th {\n",
       "        text-align: right;\n",
       "    }\n",
       "</style>\n",
       "<table border=\"1\" class=\"dataframe\">\n",
       "  <thead>\n",
       "    <tr style=\"text-align: right;\">\n",
       "      <th></th>\n",
       "      <th>RI</th>\n",
       "      <th>Na</th>\n",
       "      <th>Mg</th>\n",
       "      <th>Al</th>\n",
       "      <th>Si</th>\n",
       "      <th>K</th>\n",
       "      <th>Ca</th>\n",
       "      <th>Ba</th>\n",
       "      <th>Fe</th>\n",
       "    </tr>\n",
       "  </thead>\n",
       "  <tbody>\n",
       "    <tr>\n",
       "      <th>0</th>\n",
       "      <td>1.51761</td>\n",
       "      <td>13.89</td>\n",
       "      <td>3.60</td>\n",
       "      <td>1.36</td>\n",
       "      <td>72.73</td>\n",
       "      <td>0.782974</td>\n",
       "      <td>1.985732</td>\n",
       "      <td>0.000000</td>\n",
       "      <td>0.00</td>\n",
       "    </tr>\n",
       "    <tr>\n",
       "      <th>1</th>\n",
       "      <td>1.51618</td>\n",
       "      <td>13.53</td>\n",
       "      <td>3.55</td>\n",
       "      <td>1.54</td>\n",
       "      <td>72.99</td>\n",
       "      <td>0.730614</td>\n",
       "      <td>1.981496</td>\n",
       "      <td>0.000000</td>\n",
       "      <td>0.00</td>\n",
       "    </tr>\n",
       "    <tr>\n",
       "      <th>2</th>\n",
       "      <td>1.51766</td>\n",
       "      <td>13.21</td>\n",
       "      <td>3.69</td>\n",
       "      <td>1.29</td>\n",
       "      <td>72.61</td>\n",
       "      <td>0.829134</td>\n",
       "      <td>2.018168</td>\n",
       "      <td>0.000000</td>\n",
       "      <td>0.00</td>\n",
       "    </tr>\n",
       "    <tr>\n",
       "      <th>3</th>\n",
       "      <td>1.51742</td>\n",
       "      <td>13.27</td>\n",
       "      <td>3.62</td>\n",
       "      <td>1.24</td>\n",
       "      <td>73.08</td>\n",
       "      <td>0.819321</td>\n",
       "      <td>2.005816</td>\n",
       "      <td>0.000000</td>\n",
       "      <td>0.00</td>\n",
       "    </tr>\n",
       "    <tr>\n",
       "      <th>4</th>\n",
       "      <td>1.51596</td>\n",
       "      <td>12.79</td>\n",
       "      <td>3.61</td>\n",
       "      <td>1.62</td>\n",
       "      <td>72.97</td>\n",
       "      <td>0.861774</td>\n",
       "      <td>2.005816</td>\n",
       "      <td>0.000000</td>\n",
       "      <td>0.26</td>\n",
       "    </tr>\n",
       "    <tr>\n",
       "      <th>...</th>\n",
       "      <td>...</td>\n",
       "      <td>...</td>\n",
       "      <td>...</td>\n",
       "      <td>...</td>\n",
       "      <td>...</td>\n",
       "      <td>...</td>\n",
       "      <td>...</td>\n",
       "      <td>...</td>\n",
       "      <td>...</td>\n",
       "    </tr>\n",
       "    <tr>\n",
       "      <th>208</th>\n",
       "      <td>1.51623</td>\n",
       "      <td>14.14</td>\n",
       "      <td>0.00</td>\n",
       "      <td>2.88</td>\n",
       "      <td>72.61</td>\n",
       "      <td>0.430887</td>\n",
       "      <td>2.093860</td>\n",
       "      <td>1.019613</td>\n",
       "      <td>0.00</td>\n",
       "    </tr>\n",
       "    <tr>\n",
       "      <th>209</th>\n",
       "      <td>1.51685</td>\n",
       "      <td>14.92</td>\n",
       "      <td>0.00</td>\n",
       "      <td>1.99</td>\n",
       "      <td>73.06</td>\n",
       "      <td>0.000000</td>\n",
       "      <td>2.032793</td>\n",
       "      <td>1.167165</td>\n",
       "      <td>0.00</td>\n",
       "    </tr>\n",
       "    <tr>\n",
       "      <th>210</th>\n",
       "      <td>1.52065</td>\n",
       "      <td>14.36</td>\n",
       "      <td>0.00</td>\n",
       "      <td>2.02</td>\n",
       "      <td>73.42</td>\n",
       "      <td>0.000000</td>\n",
       "      <td>2.036014</td>\n",
       "      <td>1.179274</td>\n",
       "      <td>0.00</td>\n",
       "    </tr>\n",
       "    <tr>\n",
       "      <th>211</th>\n",
       "      <td>1.51651</td>\n",
       "      <td>14.38</td>\n",
       "      <td>0.00</td>\n",
       "      <td>1.94</td>\n",
       "      <td>73.61</td>\n",
       "      <td>0.000000</td>\n",
       "      <td>2.039226</td>\n",
       "      <td>1.162251</td>\n",
       "      <td>0.00</td>\n",
       "    </tr>\n",
       "    <tr>\n",
       "      <th>212</th>\n",
       "      <td>1.51711</td>\n",
       "      <td>14.23</td>\n",
       "      <td>0.00</td>\n",
       "      <td>2.08</td>\n",
       "      <td>73.36</td>\n",
       "      <td>0.000000</td>\n",
       "      <td>2.050387</td>\n",
       "      <td>1.186421</td>\n",
       "      <td>0.00</td>\n",
       "    </tr>\n",
       "  </tbody>\n",
       "</table>\n",
       "<p>213 rows × 9 columns</p>\n",
       "</div>"
      ],
      "text/plain": [
       "          RI     Na    Mg    Al     Si         K        Ca        Ba    Fe\n",
       "0    1.51761  13.89  3.60  1.36  72.73  0.782974  1.985732  0.000000  0.00\n",
       "1    1.51618  13.53  3.55  1.54  72.99  0.730614  1.981496  0.000000  0.00\n",
       "2    1.51766  13.21  3.69  1.29  72.61  0.829134  2.018168  0.000000  0.00\n",
       "3    1.51742  13.27  3.62  1.24  73.08  0.819321  2.005816  0.000000  0.00\n",
       "4    1.51596  12.79  3.61  1.62  72.97  0.861774  2.005816  0.000000  0.26\n",
       "..       ...    ...   ...   ...    ...       ...       ...       ...   ...\n",
       "208  1.51623  14.14  0.00  2.88  72.61  0.430887  2.093860  1.019613  0.00\n",
       "209  1.51685  14.92  0.00  1.99  73.06  0.000000  2.032793  1.167165  0.00\n",
       "210  1.52065  14.36  0.00  2.02  73.42  0.000000  2.036014  1.179274  0.00\n",
       "211  1.51651  14.38  0.00  1.94  73.61  0.000000  2.039226  1.162251  0.00\n",
       "212  1.51711  14.23  0.00  2.08  73.36  0.000000  2.050387  1.186421  0.00\n",
       "\n",
       "[213 rows x 9 columns]"
      ]
     },
     "execution_count": 43,
     "metadata": {},
     "output_type": "execute_result"
    }
   ],
   "source": [
    "from sklearn.model_selection import train_test_split, GridSearchCV\n",
    "from sklearn.preprocessing import StandardScaler\n",
    "scalar = StandardScaler()\n",
    "x_scalar = pd.DataFrame(scalar.fit_transform(x), columns = x.columns)\n",
    "x"
   ]
  },
  {
   "cell_type": "code",
   "execution_count": 44,
   "id": "2bcc6229",
   "metadata": {},
   "outputs": [],
   "source": [
    "#building model to test unexposed data\n",
    "x_train, x_test, y_train, y_test = train_test_split(x_scalar, y, test_size=0.25, random_state=355)"
   ]
  },
  {
   "cell_type": "code",
   "execution_count": 45,
   "id": "ee946c6d",
   "metadata": {},
   "outputs": [
    {
     "data": {
      "text/plain": [
       "2    76\n",
       "1    69\n",
       "7    29\n",
       "3    17\n",
       "5    13\n",
       "6     9\n",
       "Name: Glass, dtype: int64"
      ]
     },
     "execution_count": 45,
     "metadata": {},
     "output_type": "execute_result"
    }
   ],
   "source": [
    "y.value_counts()"
   ]
  },
  {
   "cell_type": "code",
   "execution_count": 46,
   "id": "3592f83c",
   "metadata": {},
   "outputs": [
    {
     "name": "stdout",
     "output_type": "stream",
     "text": [
      "Defaulting to user installation because normal site-packages is not writeable\n",
      "Requirement already satisfied: imblearn in c:\\users\\dell\\appdata\\roaming\\python\\python310\\site-packages (0.0)\n",
      "Requirement already satisfied: imbalanced-learn in c:\\programdata\\anaconda3\\lib\\site-packages (from imblearn) (0.10.1)\n",
      "Requirement already satisfied: threadpoolctl>=2.0.0 in c:\\programdata\\anaconda3\\lib\\site-packages (from imbalanced-learn->imblearn) (2.2.0)\n",
      "Requirement already satisfied: scikit-learn>=1.0.2 in c:\\programdata\\anaconda3\\lib\\site-packages (from imbalanced-learn->imblearn) (1.2.1)\n",
      "Requirement already satisfied: numpy>=1.17.3 in c:\\programdata\\anaconda3\\lib\\site-packages (from imbalanced-learn->imblearn) (1.23.5)\n",
      "Requirement already satisfied: scipy>=1.3.2 in c:\\programdata\\anaconda3\\lib\\site-packages (from imbalanced-learn->imblearn) (1.10.0)\n",
      "Requirement already satisfied: joblib>=1.1.1 in c:\\programdata\\anaconda3\\lib\\site-packages (from imbalanced-learn->imblearn) (1.1.1)\n"
     ]
    }
   ],
   "source": [
    "!pip install imblearn\n",
    "from imblearn.over_sampling import SMOTE\n",
    "SM=SMOTE()\n",
    "x1,y1 = SM.fit_resample(x,y)"
   ]
  },
  {
   "cell_type": "code",
   "execution_count": 47,
   "id": "3a64dac2",
   "metadata": {},
   "outputs": [
    {
     "name": "stdout",
     "output_type": "stream",
     "text": [
      "Best accuracy score is  0.9708029197080292 on random_state 2\n"
     ]
    }
   ],
   "source": [
    "from sklearn.ensemble import RandomForestClassifier\n",
    "\n",
    "maxAccu=0\n",
    "maxRS=0\n",
    "for i in range(1,500):\n",
    "    x_train,x_test,y_train,y_test = train_test_split(x1,y1,test_size=.30, random_state=i)\n",
    "    RFR=RandomForestClassifier()\n",
    "    RFR.fit(x_train,y_train)\n",
    "    pred = RFR.predict(x_test)\n",
    "    acc = accuracy_score(y_test,pred)\n",
    "    if acc>maxAccu:\n",
    "        maxAccu=acc\n",
    "        maxRS=i\n",
    "print(\"Best accuracy score is \", maxAccu,\"on random_state\",maxRS)"
   ]
  },
  {
   "cell_type": "code",
   "execution_count": 48,
   "id": "f9092e98",
   "metadata": {},
   "outputs": [],
   "source": [
    "import pickle\n",
    "from sklearn.metrics import confusion_matrix, classification_report, accuracy_score, roc_curve, roc_auc_score\n",
    "from sklearn.neighbors import KNeighborsClassifier\n",
    "from sklearn.model_selection import cross_val_score\n",
    "from sklearn.ensemble import GradientBoostingRegressor\n",
    "from sklearn.ensemble import RandomForestRegressor\n",
    "from sklearn.tree import DecisionTreeRegressor\n",
    "from sklearn.ensemble import ExtraTreesClassifier\n",
    "\n"
   ]
  },
  {
   "cell_type": "code",
   "execution_count": 49,
   "id": "8e603190",
   "metadata": {},
   "outputs": [],
   "source": [
    "x_train, x_test, y_train, y_test = train_test_split(x,y, test_size = 0.30, random_state = maxRS)"
   ]
  },
  {
   "cell_type": "code",
   "execution_count": 50,
   "id": "0451bded",
   "metadata": {},
   "outputs": [
    {
     "name": "stdout",
     "output_type": "stream",
     "text": [
      "0.75\n",
      "[[22  2  0  0  0  0]\n",
      " [ 6 16  0  1  0  0]\n",
      " [ 2  1  2  0  0  0]\n",
      " [ 0  0  0  2  0  0]\n",
      " [ 0  2  0  0  2  0]\n",
      " [ 1  0  0  1  0  4]]\n",
      "              precision    recall  f1-score   support\n",
      "\n",
      "           1       0.71      0.92      0.80        24\n",
      "           2       0.76      0.70      0.73        23\n",
      "           3       1.00      0.40      0.57         5\n",
      "           5       0.50      1.00      0.67         2\n",
      "           6       1.00      0.50      0.67         4\n",
      "           7       1.00      0.67      0.80         6\n",
      "\n",
      "    accuracy                           0.75        64\n",
      "   macro avg       0.83      0.70      0.71        64\n",
      "weighted avg       0.79      0.75      0.74        64\n",
      "\n"
     ]
    }
   ],
   "source": [
    "ET = ExtraTreesClassifier()\n",
    "ET.fit(x_train,y_train)\n",
    "predET=ET.predict(x_test)\n",
    "print(accuracy_score(y_test,predET))\n",
    "print(confusion_matrix(y_test,predET))\n",
    "print(classification_report(y_test,predET))"
   ]
  },
  {
   "cell_type": "code",
   "execution_count": 51,
   "id": "27817b1d",
   "metadata": {},
   "outputs": [
    {
     "name": "stdout",
     "output_type": "stream",
     "text": [
      "[0.89130435 0.84615385 0.82417582 0.84615385 0.94505495]\n",
      "0.8705685618729098\n",
      "Diff b/w accuracy score and cross validation score -0.12056856187290976\n"
     ]
    }
   ],
   "source": [
    "score = cross_val_score(ET,x1,y1)\n",
    "print(score)\n",
    "print(score.mean())\n",
    "print('Diff b/w accuracy score and cross validation score', accuracy_score(y_test, predET)-score.mean())"
   ]
  },
  {
   "cell_type": "code",
   "execution_count": 52,
   "id": "85aaf858",
   "metadata": {},
   "outputs": [
    {
     "name": "stdout",
     "output_type": "stream",
     "text": [
      "0.734375\n",
      "[[21  3  0  0  0  0]\n",
      " [ 6 16  0  1  0  0]\n",
      " [ 2  1  2  0  0  0]\n",
      " [ 0  1  0  1  0  0]\n",
      " [ 0  1  0  0  3  0]\n",
      " [ 1  1  0  0  0  4]]\n",
      "              precision    recall  f1-score   support\n",
      "\n",
      "           1       0.70      0.88      0.78        24\n",
      "           2       0.70      0.70      0.70        23\n",
      "           3       1.00      0.40      0.57         5\n",
      "           5       0.50      0.50      0.50         2\n",
      "           6       1.00      0.75      0.86         4\n",
      "           7       1.00      0.67      0.80         6\n",
      "\n",
      "    accuracy                           0.73        64\n",
      "   macro avg       0.82      0.65      0.70        64\n",
      "weighted avg       0.76      0.73      0.73        64\n",
      "\n"
     ]
    }
   ],
   "source": [
    "RFC = RandomForestClassifier()\n",
    "RFC.fit(x_train,y_train)\n",
    "predRFC=RFC.predict(x_test)\n",
    "print(accuracy_score(y_test,predRFC))\n",
    "print(confusion_matrix(y_test,predRFC))\n",
    "print(classification_report(y_test,predRFC))"
   ]
  },
  {
   "cell_type": "code",
   "execution_count": 53,
   "id": "fe70f315",
   "metadata": {},
   "outputs": [
    {
     "name": "stdout",
     "output_type": "stream",
     "text": [
      "[0.86956522 0.82417582 0.84615385 0.84615385 0.92307692]\n",
      "0.8618251313903489\n",
      "Diff b/w accuracy score and cross validation score -0.1274501313903489\n"
     ]
    }
   ],
   "source": [
    "#cross validation score \n",
    "\n",
    "score = cross_val_score(RFC,x1,y1)\n",
    "print(score)\n",
    "print(score.mean())\n",
    "print('Diff b/w accuracy score and cross validation score', accuracy_score(y_test, predRFC)-score.mean())"
   ]
  },
  {
   "cell_type": "code",
   "execution_count": 54,
   "id": "5c759e1c",
   "metadata": {},
   "outputs": [
    {
     "data": {
      "text/html": [
       "<style>#sk-container-id-1 {color: black;background-color: white;}#sk-container-id-1 pre{padding: 0;}#sk-container-id-1 div.sk-toggleable {background-color: white;}#sk-container-id-1 label.sk-toggleable__label {cursor: pointer;display: block;width: 100%;margin-bottom: 0;padding: 0.3em;box-sizing: border-box;text-align: center;}#sk-container-id-1 label.sk-toggleable__label-arrow:before {content: \"▸\";float: left;margin-right: 0.25em;color: #696969;}#sk-container-id-1 label.sk-toggleable__label-arrow:hover:before {color: black;}#sk-container-id-1 div.sk-estimator:hover label.sk-toggleable__label-arrow:before {color: black;}#sk-container-id-1 div.sk-toggleable__content {max-height: 0;max-width: 0;overflow: hidden;text-align: left;background-color: #f0f8ff;}#sk-container-id-1 div.sk-toggleable__content pre {margin: 0.2em;color: black;border-radius: 0.25em;background-color: #f0f8ff;}#sk-container-id-1 input.sk-toggleable__control:checked~div.sk-toggleable__content {max-height: 200px;max-width: 100%;overflow: auto;}#sk-container-id-1 input.sk-toggleable__control:checked~label.sk-toggleable__label-arrow:before {content: \"▾\";}#sk-container-id-1 div.sk-estimator input.sk-toggleable__control:checked~label.sk-toggleable__label {background-color: #d4ebff;}#sk-container-id-1 div.sk-label input.sk-toggleable__control:checked~label.sk-toggleable__label {background-color: #d4ebff;}#sk-container-id-1 input.sk-hidden--visually {border: 0;clip: rect(1px 1px 1px 1px);clip: rect(1px, 1px, 1px, 1px);height: 1px;margin: -1px;overflow: hidden;padding: 0;position: absolute;width: 1px;}#sk-container-id-1 div.sk-estimator {font-family: monospace;background-color: #f0f8ff;border: 1px dotted black;border-radius: 0.25em;box-sizing: border-box;margin-bottom: 0.5em;}#sk-container-id-1 div.sk-estimator:hover {background-color: #d4ebff;}#sk-container-id-1 div.sk-parallel-item::after {content: \"\";width: 100%;border-bottom: 1px solid gray;flex-grow: 1;}#sk-container-id-1 div.sk-label:hover label.sk-toggleable__label {background-color: #d4ebff;}#sk-container-id-1 div.sk-serial::before {content: \"\";position: absolute;border-left: 1px solid gray;box-sizing: border-box;top: 0;bottom: 0;left: 50%;z-index: 0;}#sk-container-id-1 div.sk-serial {display: flex;flex-direction: column;align-items: center;background-color: white;padding-right: 0.2em;padding-left: 0.2em;position: relative;}#sk-container-id-1 div.sk-item {position: relative;z-index: 1;}#sk-container-id-1 div.sk-parallel {display: flex;align-items: stretch;justify-content: center;background-color: white;position: relative;}#sk-container-id-1 div.sk-item::before, #sk-container-id-1 div.sk-parallel-item::before {content: \"\";position: absolute;border-left: 1px solid gray;box-sizing: border-box;top: 0;bottom: 0;left: 50%;z-index: -1;}#sk-container-id-1 div.sk-parallel-item {display: flex;flex-direction: column;z-index: 1;position: relative;background-color: white;}#sk-container-id-1 div.sk-parallel-item:first-child::after {align-self: flex-end;width: 50%;}#sk-container-id-1 div.sk-parallel-item:last-child::after {align-self: flex-start;width: 50%;}#sk-container-id-1 div.sk-parallel-item:only-child::after {width: 0;}#sk-container-id-1 div.sk-dashed-wrapped {border: 1px dashed gray;margin: 0 0.4em 0.5em 0.4em;box-sizing: border-box;padding-bottom: 0.4em;background-color: white;}#sk-container-id-1 div.sk-label label {font-family: monospace;font-weight: bold;display: inline-block;line-height: 1.2em;}#sk-container-id-1 div.sk-label-container {text-align: center;}#sk-container-id-1 div.sk-container {/* jupyter's `normalize.less` sets `[hidden] { display: none; }` but bootstrap.min.css set `[hidden] { display: none !important; }` so we also need the `!important` here to be able to override the default hidden behavior on the sphinx rendered scikit-learn.org. See: https://github.com/scikit-learn/scikit-learn/issues/21755 */display: inline-block !important;position: relative;}#sk-container-id-1 div.sk-text-repr-fallback {display: none;}</style><div id=\"sk-container-id-1\" class=\"sk-top-container\"><div class=\"sk-text-repr-fallback\"><pre>KNeighborsClassifier()</pre><b>In a Jupyter environment, please rerun this cell to show the HTML representation or trust the notebook. <br />On GitHub, the HTML representation is unable to render, please try loading this page with nbviewer.org.</b></div><div class=\"sk-container\" hidden><div class=\"sk-item\"><div class=\"sk-estimator sk-toggleable\"><input class=\"sk-toggleable__control sk-hidden--visually\" id=\"sk-estimator-id-1\" type=\"checkbox\" checked><label for=\"sk-estimator-id-1\" class=\"sk-toggleable__label sk-toggleable__label-arrow\">KNeighborsClassifier</label><div class=\"sk-toggleable__content\"><pre>KNeighborsClassifier()</pre></div></div></div></div></div>"
      ],
      "text/plain": [
       "KNeighborsClassifier()"
      ]
     },
     "execution_count": 54,
     "metadata": {},
     "output_type": "execute_result"
    }
   ],
   "source": [
    "knn = KNeighborsClassifier()\n",
    "\n",
    "#model training\n",
    "knn.fit(x_train, y_train)\n"
   ]
  },
  {
   "cell_type": "code",
   "execution_count": 55,
   "id": "9d0b7cbd",
   "metadata": {},
   "outputs": [],
   "source": [
    "def metric_score(clf, x_train, x_test, y_train, y_test, train=True):\n",
    "    if train:\n",
    "        y_pred = clf.predict(x_train)\n",
    "        print(f'Accuracy score: {accuracy_score(y_train, y_pred) * 100:.2f}%')\n",
    "    \n",
    "    elif train==False:\n",
    "        pred = clf.predict(x_test) #\n",
    "        print(f'Accuracy score: {accuracy_score(y_test, pred) * 100:.2f}%')\n",
    "        print('\\n \\n Test Classification Report \\n', classification_report(y_test, pred, digits=2))"
   ]
  },
  {
   "cell_type": "code",
   "execution_count": 56,
   "id": "0da028be",
   "metadata": {},
   "outputs": [
    {
     "name": "stdout",
     "output_type": "stream",
     "text": [
      "Accuracy score: 78.52%\n",
      "Accuracy score: 56.25%\n",
      "\n",
      " \n",
      " Test Classification Report \n",
      "               precision    recall  f1-score   support\n",
      "\n",
      "           1       0.60      0.75      0.67        24\n",
      "           2       0.58      0.61      0.60        23\n",
      "           3       0.00      0.00      0.00         5\n",
      "           5       0.00      0.00      0.00         2\n",
      "           6       1.00      0.25      0.40         4\n",
      "           7       0.60      0.50      0.55         6\n",
      "\n",
      "    accuracy                           0.56        64\n",
      "   macro avg       0.46      0.35      0.37        64\n",
      "weighted avg       0.55      0.56      0.54        64\n",
      "\n"
     ]
    }
   ],
   "source": [
    "metric_score(knn, x_train, x_test, y_train, y_test, train=True) #training score\n",
    "metric_score(knn, x_train, x_test, y_train, y_test, train=False) #testing score"
   ]
  },
  {
   "cell_type": "code",
   "execution_count": 57,
   "id": "fcf8434e",
   "metadata": {},
   "outputs": [],
   "source": [
    "from sklearn import metrics"
   ]
  },
  {
   "cell_type": "code",
   "execution_count": 58,
   "id": "66c474ab",
   "metadata": {},
   "outputs": [],
   "source": [
    "def falsepositiverates(fpr,tpr):\n",
    "    fpr, tpr, thresholds = metrics.roc_curve(y_test, pred)\n",
    "    roc_auc = metrics.auc(fpr, tpr)\n",
    "    display = metrics.RocCurveDisplay(fpr=fpr, tpr=tpr, roc_auc=roc_auc, estimator_name=Final_model)\n",
    "    display.plot()"
   ]
  },
  {
   "cell_type": "code",
   "execution_count": 59,
   "id": "7b5249df",
   "metadata": {},
   "outputs": [
    {
     "data": {
      "text/plain": [
       "['Typeofglass.pkl']"
      ]
     },
     "execution_count": 59,
     "metadata": {},
     "output_type": "execute_result"
    }
   ],
   "source": [
    "import joblib\n",
    "joblib.dump(knn, 'Typeofglass.pkl')"
   ]
  },
  {
   "cell_type": "code",
   "execution_count": 60,
   "id": "a8bfbe8e",
   "metadata": {},
   "outputs": [
    {
     "data": {
      "text/plain": [
       "array([2, 3, 1, 2, 2, 2, 1, 1, 1, 1, 2, 1, 2, 1, 1, 2, 2, 2, 1, 5, 7, 1,\n",
       "       1, 2, 1, 2, 2, 7, 1, 2, 1, 1, 1, 1, 1, 2, 2, 1, 1, 1, 5, 1, 2, 1,\n",
       "       1, 2, 1, 1, 2, 7, 2, 1, 1, 2, 7, 1, 2, 1, 2, 6, 3, 7, 2, 2],\n",
       "      dtype=int64)"
      ]
     },
     "execution_count": 60,
     "metadata": {},
     "output_type": "execute_result"
    }
   ],
   "source": [
    "knn = joblib.load('Typeofglass.pkl')\n",
    "\n",
    "prediction = knn.predict(x_test)\n",
    "prediction"
   ]
  },
  {
   "cell_type": "code",
   "execution_count": 61,
   "id": "49ae4c68",
   "metadata": {},
   "outputs": [
    {
     "data": {
      "text/html": [
       "<div>\n",
       "<style scoped>\n",
       "    .dataframe tbody tr th:only-of-type {\n",
       "        vertical-align: middle;\n",
       "    }\n",
       "\n",
       "    .dataframe tbody tr th {\n",
       "        vertical-align: top;\n",
       "    }\n",
       "\n",
       "    .dataframe thead th {\n",
       "        text-align: right;\n",
       "    }\n",
       "</style>\n",
       "<table border=\"1\" class=\"dataframe\">\n",
       "  <thead>\n",
       "    <tr style=\"text-align: right;\">\n",
       "      <th></th>\n",
       "      <th>Predicted</th>\n",
       "      <th>Actual</th>\n",
       "    </tr>\n",
       "  </thead>\n",
       "  <tbody>\n",
       "    <tr>\n",
       "      <th>0</th>\n",
       "      <td>2</td>\n",
       "      <td>2</td>\n",
       "    </tr>\n",
       "    <tr>\n",
       "      <th>1</th>\n",
       "      <td>3</td>\n",
       "      <td>1</td>\n",
       "    </tr>\n",
       "    <tr>\n",
       "      <th>2</th>\n",
       "      <td>1</td>\n",
       "      <td>1</td>\n",
       "    </tr>\n",
       "    <tr>\n",
       "      <th>3</th>\n",
       "      <td>2</td>\n",
       "      <td>1</td>\n",
       "    </tr>\n",
       "    <tr>\n",
       "      <th>4</th>\n",
       "      <td>2</td>\n",
       "      <td>2</td>\n",
       "    </tr>\n",
       "    <tr>\n",
       "      <th>...</th>\n",
       "      <td>...</td>\n",
       "      <td>...</td>\n",
       "    </tr>\n",
       "    <tr>\n",
       "      <th>59</th>\n",
       "      <td>6</td>\n",
       "      <td>6</td>\n",
       "    </tr>\n",
       "    <tr>\n",
       "      <th>60</th>\n",
       "      <td>3</td>\n",
       "      <td>1</td>\n",
       "    </tr>\n",
       "    <tr>\n",
       "      <th>61</th>\n",
       "      <td>7</td>\n",
       "      <td>7</td>\n",
       "    </tr>\n",
       "    <tr>\n",
       "      <th>62</th>\n",
       "      <td>2</td>\n",
       "      <td>3</td>\n",
       "    </tr>\n",
       "    <tr>\n",
       "      <th>63</th>\n",
       "      <td>2</td>\n",
       "      <td>5</td>\n",
       "    </tr>\n",
       "  </tbody>\n",
       "</table>\n",
       "<p>64 rows × 2 columns</p>\n",
       "</div>"
      ],
      "text/plain": [
       "    Predicted  Actual\n",
       "0           2       2\n",
       "1           3       1\n",
       "2           1       1\n",
       "3           2       1\n",
       "4           2       2\n",
       "..        ...     ...\n",
       "59          6       6\n",
       "60          3       1\n",
       "61          7       7\n",
       "62          2       3\n",
       "63          2       5\n",
       "\n",
       "[64 rows x 2 columns]"
      ]
     },
     "execution_count": 61,
     "metadata": {},
     "output_type": "execute_result"
    }
   ],
   "source": [
    "a = np.array(y_test)\n",
    "data = pd.DataFrame()\n",
    "data['Predicted']=prediction\n",
    "data['Actual']=a\n",
    "data"
   ]
  },
  {
   "cell_type": "markdown",
   "id": "91c9ad66",
   "metadata": {},
   "source": [
    "There are 214 observations in the dataset. The dataset is divided into window glass (classes 1-4) and non-window glass (classes 5-7). so the predictions has been made based on the type of glass"
   ]
  },
  {
   "cell_type": "code",
   "execution_count": null,
   "id": "ed79f1af",
   "metadata": {},
   "outputs": [],
   "source": []
  }
 ],
 "metadata": {
  "kernelspec": {
   "display_name": "Python 3 (ipykernel)",
   "language": "python",
   "name": "python3"
  },
  "language_info": {
   "codemirror_mode": {
    "name": "ipython",
    "version": 3
   },
   "file_extension": ".py",
   "mimetype": "text/x-python",
   "name": "python",
   "nbconvert_exporter": "python",
   "pygments_lexer": "ipython3",
   "version": "3.10.9"
  }
 },
 "nbformat": 4,
 "nbformat_minor": 5
}
